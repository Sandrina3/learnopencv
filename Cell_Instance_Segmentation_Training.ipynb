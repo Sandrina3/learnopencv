{
  "nbformat": 4,
  "nbformat_minor": 0,
  "metadata": {
    "colab": {
      "provenance": [],
      "gpuType": "V28",
      "include_colab_link": true
    },
    "kernelspec": {
      "name": "python3",
      "display_name": "Python 3"
    },
    "language_info": {
      "name": "python"
    },
    "accelerator": "TPU"
  },
  "cells": [
    {
      "cell_type": "markdown",
      "metadata": {
        "id": "view-in-github",
        "colab_type": "text"
      },
      "source": [
        "<a href=\"https://colab.research.google.com/github/Sandrina3/learnopencv/blob/master/Cell_Instance_Segmentation_Training.ipynb\" target=\"_parent\"><img src=\"https://colab.research.google.com/assets/colab-badge.svg\" alt=\"Open In Colab\"/></a>"
      ]
    },
    {
      "cell_type": "markdown",
      "source": [
        "# Cell Instance Segmentation"
      ],
      "metadata": {
        "id": "mRG1hNboHyUH"
      }
    },
    {
      "cell_type": "markdown",
      "source": [
        "# Data Exploration"
      ],
      "metadata": {
        "id": "ipEVQNKSIOX4"
      }
    },
    {
      "cell_type": "markdown",
      "source": [
        "## Configurations"
      ],
      "metadata": {
        "id": "-T05_7I2IVTi"
      }
    },
    {
      "cell_type": "code",
      "source": [
        "!pip3 install cython==3.0.5\n",
        "!pip3 install h5py==3.9.0\n",
        "!pip3 install imgaug==0.4.0\n",
        "!pip3 install ipython==7.34.0\n",
        "!pip3 install ipython-genutils==0.2.0\n",
        "!pip3 install ipython-sql==0.5.0\n",
        "!pip3 install keras==2.14.0\n",
        "!pip3 install matplotlib==3.7.1\n",
        "!pip3 install numpy==1.23.5\n",
        "!pip3 install opencv-contrib-python==4.8.0.76\n",
        "!pip3 install opencv-python==4.8.0.76\n",
        "!pip3 install pillow==9.4.0\n",
        "#!pip3 install scikit-image==0.19.3\n",
        "#!pip3 install scipy==1.11.3\n",
        "#!pip3 install tensorboard==2.14.1\n",
        "!pip3 install tensorflow==2.12.0\n",
        "!pip3 install pydicom==2.4\n",
        "#!pip3 install -q tqdm\n"
      ],
      "metadata": {
        "colab": {
          "base_uri": "https://localhost:8080/",
          "height": 1000
        },
        "id": "yVX3BFA-H76C",
        "outputId": "1eaf5f99-78df-4b0a-b1b6-5d6a0be0b643"
      },
      "execution_count": 1,
      "outputs": [
        {
          "output_type": "stream",
          "name": "stdout",
          "text": [
            "Collecting cython==3.0.5\n",
            "  Downloading Cython-3.0.5-cp311-cp311-manylinux_2_17_x86_64.manylinux2014_x86_64.whl.metadata (3.2 kB)\n",
            "Downloading Cython-3.0.5-cp311-cp311-manylinux_2_17_x86_64.manylinux2014_x86_64.whl (3.6 MB)\n",
            "\u001b[?25l   \u001b[90m━━━━━━━━━━━━━━━━━━━━━━━━━━━━━━━━━━━━━━━━\u001b[0m \u001b[32m0.0/3.6 MB\u001b[0m \u001b[31m?\u001b[0m eta \u001b[36m-:--:--\u001b[0m\r\u001b[2K   \u001b[91m━\u001b[0m\u001b[91m╸\u001b[0m\u001b[90m━━━━━━━━━━━━━━━━━━━━━━━━━━━━━━━━━━━━━━\u001b[0m \u001b[32m0.2/3.6 MB\u001b[0m \u001b[31m4.4 MB/s\u001b[0m eta \u001b[36m0:00:01\u001b[0m\r\u001b[2K   \u001b[91m━━━━━━━━━━━━━━━\u001b[0m\u001b[90m╺\u001b[0m\u001b[90m━━━━━━━━━━━━━━━━━━━━━━━━\u001b[0m \u001b[32m1.4/3.6 MB\u001b[0m \u001b[31m20.3 MB/s\u001b[0m eta \u001b[36m0:00:01\u001b[0m\r\u001b[2K   \u001b[91m━━━━━━━━━━━━━━━━━━━━━━━━━━━━━━━━━━━━━━━\u001b[0m\u001b[91m╸\u001b[0m \u001b[32m3.6/3.6 MB\u001b[0m \u001b[31m41.8 MB/s\u001b[0m eta \u001b[36m0:00:01\u001b[0m\r\u001b[2K   \u001b[90m━━━━━━━━━━━━━━━━━━━━━━━━━━━━━━━━━━━━━━━━\u001b[0m \u001b[32m3.6/3.6 MB\u001b[0m \u001b[31m31.0 MB/s\u001b[0m eta \u001b[36m0:00:00\u001b[0m\n",
            "\u001b[?25hInstalling collected packages: cython\n",
            "Successfully installed cython-3.0.5\n",
            "Collecting h5py==3.9.0\n",
            "  Downloading h5py-3.9.0-cp311-cp311-manylinux_2_17_x86_64.manylinux2014_x86_64.whl.metadata (2.5 kB)\n",
            "Requirement already satisfied: numpy>=1.17.3 in /usr/local/lib/python3.11/dist-packages (from h5py==3.9.0) (2.0.2)\n",
            "Downloading h5py-3.9.0-cp311-cp311-manylinux_2_17_x86_64.manylinux2014_x86_64.whl (4.8 MB)\n",
            "\u001b[2K   \u001b[90m━━━━━━━━━━━━━━━━━━━━━━━━━━━━━━━━━━━━━━━━\u001b[0m \u001b[32m4.8/4.8 MB\u001b[0m \u001b[31m43.0 MB/s\u001b[0m eta \u001b[36m0:00:00\u001b[0m\n",
            "\u001b[?25hInstalling collected packages: h5py\n",
            "  Attempting uninstall: h5py\n",
            "    Found existing installation: h5py 3.13.0\n",
            "    Uninstalling h5py-3.13.0:\n",
            "      Successfully uninstalled h5py-3.13.0\n",
            "Successfully installed h5py-3.9.0\n",
            "Collecting imgaug==0.4.0\n",
            "  Downloading imgaug-0.4.0-py2.py3-none-any.whl.metadata (1.8 kB)\n",
            "Requirement already satisfied: six in /usr/local/lib/python3.11/dist-packages (from imgaug==0.4.0) (1.17.0)\n",
            "Requirement already satisfied: numpy>=1.15 in /usr/local/lib/python3.11/dist-packages (from imgaug==0.4.0) (2.0.2)\n",
            "Requirement already satisfied: scipy in /usr/local/lib/python3.11/dist-packages (from imgaug==0.4.0) (1.15.2)\n",
            "Requirement already satisfied: Pillow in /usr/local/lib/python3.11/dist-packages (from imgaug==0.4.0) (11.2.1)\n",
            "Requirement already satisfied: matplotlib in /usr/local/lib/python3.11/dist-packages (from imgaug==0.4.0) (3.10.0)\n",
            "Requirement already satisfied: scikit-image>=0.14.2 in /usr/local/lib/python3.11/dist-packages (from imgaug==0.4.0) (0.25.2)\n",
            "Collecting opencv-python (from imgaug==0.4.0)\n",
            "  Downloading opencv_python-4.11.0.86-cp37-abi3-manylinux_2_17_x86_64.manylinux2014_x86_64.whl.metadata (20 kB)\n",
            "Requirement already satisfied: imageio in /usr/local/lib/python3.11/dist-packages (from imgaug==0.4.0) (2.37.0)\n",
            "Collecting Shapely (from imgaug==0.4.0)\n",
            "  Downloading shapely-2.1.0-cp311-cp311-manylinux_2_17_x86_64.manylinux2014_x86_64.whl.metadata (6.7 kB)\n",
            "Requirement already satisfied: networkx>=3.0 in /usr/local/lib/python3.11/dist-packages (from scikit-image>=0.14.2->imgaug==0.4.0) (3.4.2)\n",
            "Requirement already satisfied: tifffile>=2022.8.12 in /usr/local/lib/python3.11/dist-packages (from scikit-image>=0.14.2->imgaug==0.4.0) (2025.3.30)\n",
            "Requirement already satisfied: packaging>=21 in /usr/local/lib/python3.11/dist-packages (from scikit-image>=0.14.2->imgaug==0.4.0) (25.0)\n",
            "Requirement already satisfied: lazy-loader>=0.4 in /usr/local/lib/python3.11/dist-packages (from scikit-image>=0.14.2->imgaug==0.4.0) (0.4)\n",
            "Requirement already satisfied: contourpy>=1.0.1 in /usr/local/lib/python3.11/dist-packages (from matplotlib->imgaug==0.4.0) (1.3.2)\n",
            "Requirement already satisfied: cycler>=0.10 in /usr/local/lib/python3.11/dist-packages (from matplotlib->imgaug==0.4.0) (0.12.1)\n",
            "Requirement already satisfied: fonttools>=4.22.0 in /usr/local/lib/python3.11/dist-packages (from matplotlib->imgaug==0.4.0) (4.57.0)\n",
            "Requirement already satisfied: kiwisolver>=1.3.1 in /usr/local/lib/python3.11/dist-packages (from matplotlib->imgaug==0.4.0) (1.4.8)\n",
            "Requirement already satisfied: pyparsing>=2.3.1 in /usr/local/lib/python3.11/dist-packages (from matplotlib->imgaug==0.4.0) (3.2.3)\n",
            "Requirement already satisfied: python-dateutil>=2.7 in /usr/local/lib/python3.11/dist-packages (from matplotlib->imgaug==0.4.0) (2.9.0.post0)\n",
            "Downloading imgaug-0.4.0-py2.py3-none-any.whl (948 kB)\n",
            "\u001b[2K   \u001b[90m━━━━━━━━━━━━━━━━━━━━━━━━━━━━━━━━━━━━━━━━\u001b[0m \u001b[32m948.0/948.0 kB\u001b[0m \u001b[31m14.0 MB/s\u001b[0m eta \u001b[36m0:00:00\u001b[0m\n",
            "\u001b[?25hDownloading opencv_python-4.11.0.86-cp37-abi3-manylinux_2_17_x86_64.manylinux2014_x86_64.whl (63.0 MB)\n",
            "\u001b[2K   \u001b[90m━━━━━━━━━━━━━━━━━━━━━━━━━━━━━━━━━━━━━━━━\u001b[0m \u001b[32m63.0/63.0 MB\u001b[0m \u001b[31m18.6 MB/s\u001b[0m eta \u001b[36m0:00:00\u001b[0m\n",
            "\u001b[?25hDownloading shapely-2.1.0-cp311-cp311-manylinux_2_17_x86_64.manylinux2014_x86_64.whl (3.1 MB)\n",
            "\u001b[2K   \u001b[90m━━━━━━━━━━━━━━━━━━━━━━━━━━━━━━━━━━━━━━━━\u001b[0m \u001b[32m3.1/3.1 MB\u001b[0m \u001b[31m61.5 MB/s\u001b[0m eta \u001b[36m0:00:00\u001b[0m\n",
            "\u001b[?25hInstalling collected packages: Shapely, opencv-python, imgaug\n",
            "Successfully installed Shapely-2.1.0 imgaug-0.4.0 opencv-python-4.11.0.86\n",
            "Requirement already satisfied: ipython==7.34.0 in /usr/local/lib/python3.11/dist-packages (7.34.0)\n",
            "Requirement already satisfied: setuptools>=18.5 in /usr/local/lib/python3.11/dist-packages (from ipython==7.34.0) (75.2.0)\n",
            "Collecting jedi>=0.16 (from ipython==7.34.0)\n",
            "  Downloading jedi-0.19.2-py2.py3-none-any.whl.metadata (22 kB)\n",
            "Requirement already satisfied: decorator in /usr/local/lib/python3.11/dist-packages (from ipython==7.34.0) (5.2.1)\n",
            "Requirement already satisfied: pickleshare in /usr/local/lib/python3.11/dist-packages (from ipython==7.34.0) (0.7.5)\n",
            "Requirement already satisfied: traitlets>=4.2 in /usr/local/lib/python3.11/dist-packages (from ipython==7.34.0) (5.7.1)\n",
            "Requirement already satisfied: prompt-toolkit!=3.0.0,!=3.0.1,<3.1.0,>=2.0.0 in /usr/local/lib/python3.11/dist-packages (from ipython==7.34.0) (3.0.51)\n",
            "Requirement already satisfied: pygments in /usr/local/lib/python3.11/dist-packages (from ipython==7.34.0) (2.19.1)\n",
            "Requirement already satisfied: backcall in /usr/local/lib/python3.11/dist-packages (from ipython==7.34.0) (0.2.0)\n",
            "Requirement already satisfied: matplotlib-inline in /usr/local/lib/python3.11/dist-packages (from ipython==7.34.0) (0.1.7)\n",
            "Requirement already satisfied: pexpect>4.3 in /usr/local/lib/python3.11/dist-packages (from ipython==7.34.0) (4.9.0)\n",
            "Requirement already satisfied: parso<0.9.0,>=0.8.4 in /usr/local/lib/python3.11/dist-packages (from jedi>=0.16->ipython==7.34.0) (0.8.4)\n",
            "Requirement already satisfied: ptyprocess>=0.5 in /usr/local/lib/python3.11/dist-packages (from pexpect>4.3->ipython==7.34.0) (0.7.0)\n",
            "Requirement already satisfied: wcwidth in /usr/local/lib/python3.11/dist-packages (from prompt-toolkit!=3.0.0,!=3.0.1,<3.1.0,>=2.0.0->ipython==7.34.0) (0.2.13)\n",
            "Downloading jedi-0.19.2-py2.py3-none-any.whl (1.6 MB)\n",
            "\u001b[2K   \u001b[90m━━━━━━━━━━━━━━━━━━━━━━━━━━━━━━━━━━━━━━━━\u001b[0m \u001b[32m1.6/1.6 MB\u001b[0m \u001b[31m19.0 MB/s\u001b[0m eta \u001b[36m0:00:00\u001b[0m\n",
            "\u001b[?25hInstalling collected packages: jedi\n",
            "Successfully installed jedi-0.19.2\n",
            "Requirement already satisfied: ipython-genutils==0.2.0 in /usr/local/lib/python3.11/dist-packages (0.2.0)\n",
            "Collecting ipython-sql==0.5.0\n",
            "  Downloading ipython_sql-0.5.0-py3-none-any.whl.metadata (17 kB)\n",
            "Collecting prettytable (from ipython-sql==0.5.0)\n",
            "  Downloading prettytable-3.16.0-py3-none-any.whl.metadata (33 kB)\n",
            "Requirement already satisfied: ipython in /usr/local/lib/python3.11/dist-packages (from ipython-sql==0.5.0) (7.34.0)\n",
            "Collecting sqlalchemy>=2.0 (from ipython-sql==0.5.0)\n",
            "  Downloading sqlalchemy-2.0.40-cp311-cp311-manylinux_2_17_x86_64.manylinux2014_x86_64.whl.metadata (9.6 kB)\n",
            "Collecting sqlparse (from ipython-sql==0.5.0)\n",
            "  Downloading sqlparse-0.5.3-py3-none-any.whl.metadata (3.9 kB)\n",
            "Requirement already satisfied: six in /usr/local/lib/python3.11/dist-packages (from ipython-sql==0.5.0) (1.17.0)\n",
            "Requirement already satisfied: ipython-genutils in /usr/local/lib/python3.11/dist-packages (from ipython-sql==0.5.0) (0.2.0)\n",
            "Collecting greenlet>=1 (from sqlalchemy>=2.0->ipython-sql==0.5.0)\n",
            "  Downloading greenlet-3.2.2-cp311-cp311-manylinux_2_24_x86_64.manylinux_2_28_x86_64.whl.metadata (4.1 kB)\n",
            "Requirement already satisfied: typing-extensions>=4.6.0 in /usr/local/lib/python3.11/dist-packages (from sqlalchemy>=2.0->ipython-sql==0.5.0) (4.13.2)\n",
            "Requirement already satisfied: setuptools>=18.5 in /usr/local/lib/python3.11/dist-packages (from ipython->ipython-sql==0.5.0) (75.2.0)\n",
            "Requirement already satisfied: jedi>=0.16 in /usr/local/lib/python3.11/dist-packages (from ipython->ipython-sql==0.5.0) (0.19.2)\n",
            "Requirement already satisfied: decorator in /usr/local/lib/python3.11/dist-packages (from ipython->ipython-sql==0.5.0) (5.2.1)\n",
            "Requirement already satisfied: pickleshare in /usr/local/lib/python3.11/dist-packages (from ipython->ipython-sql==0.5.0) (0.7.5)\n",
            "Requirement already satisfied: traitlets>=4.2 in /usr/local/lib/python3.11/dist-packages (from ipython->ipython-sql==0.5.0) (5.7.1)\n",
            "Requirement already satisfied: prompt-toolkit!=3.0.0,!=3.0.1,<3.1.0,>=2.0.0 in /usr/local/lib/python3.11/dist-packages (from ipython->ipython-sql==0.5.0) (3.0.51)\n",
            "Requirement already satisfied: pygments in /usr/local/lib/python3.11/dist-packages (from ipython->ipython-sql==0.5.0) (2.19.1)\n",
            "Requirement already satisfied: backcall in /usr/local/lib/python3.11/dist-packages (from ipython->ipython-sql==0.5.0) (0.2.0)\n",
            "Requirement already satisfied: matplotlib-inline in /usr/local/lib/python3.11/dist-packages (from ipython->ipython-sql==0.5.0) (0.1.7)\n",
            "Requirement already satisfied: pexpect>4.3 in /usr/local/lib/python3.11/dist-packages (from ipython->ipython-sql==0.5.0) (4.9.0)\n",
            "Requirement already satisfied: wcwidth in /usr/local/lib/python3.11/dist-packages (from prettytable->ipython-sql==0.5.0) (0.2.13)\n",
            "Requirement already satisfied: parso<0.9.0,>=0.8.4 in /usr/local/lib/python3.11/dist-packages (from jedi>=0.16->ipython->ipython-sql==0.5.0) (0.8.4)\n",
            "Requirement already satisfied: ptyprocess>=0.5 in /usr/local/lib/python3.11/dist-packages (from pexpect>4.3->ipython->ipython-sql==0.5.0) (0.7.0)\n",
            "Downloading ipython_sql-0.5.0-py3-none-any.whl (20 kB)\n",
            "Downloading sqlalchemy-2.0.40-cp311-cp311-manylinux_2_17_x86_64.manylinux2014_x86_64.whl (3.2 MB)\n",
            "\u001b[2K   \u001b[90m━━━━━━━━━━━━━━━━━━━━━━━━━━━━━━━━━━━━━━━━\u001b[0m \u001b[32m3.2/3.2 MB\u001b[0m \u001b[31m40.3 MB/s\u001b[0m eta \u001b[36m0:00:00\u001b[0m\n",
            "\u001b[?25hDownloading prettytable-3.16.0-py3-none-any.whl (33 kB)\n",
            "Downloading sqlparse-0.5.3-py3-none-any.whl (44 kB)\n",
            "\u001b[2K   \u001b[90m━━━━━━━━━━━━━━━━━━━━━━━━━━━━━━━━━━━━━━━━\u001b[0m \u001b[32m44.4/44.4 kB\u001b[0m \u001b[31m2.9 MB/s\u001b[0m eta \u001b[36m0:00:00\u001b[0m\n",
            "\u001b[?25hDownloading greenlet-3.2.2-cp311-cp311-manylinux_2_24_x86_64.manylinux_2_28_x86_64.whl (583 kB)\n",
            "\u001b[2K   \u001b[90m━━━━━━━━━━━━━━━━━━━━━━━━━━━━━━━━━━━━━━━━\u001b[0m \u001b[32m583.9/583.9 kB\u001b[0m \u001b[31m33.3 MB/s\u001b[0m eta \u001b[36m0:00:00\u001b[0m\n",
            "\u001b[?25hInstalling collected packages: sqlparse, prettytable, greenlet, sqlalchemy, ipython-sql\n",
            "Successfully installed greenlet-3.2.2 ipython-sql-0.5.0 prettytable-3.16.0 sqlalchemy-2.0.40 sqlparse-0.5.3\n",
            "Collecting keras==2.14.0\n",
            "  Downloading keras-2.14.0-py3-none-any.whl.metadata (2.4 kB)\n",
            "Downloading keras-2.14.0-py3-none-any.whl (1.7 MB)\n",
            "\u001b[2K   \u001b[90m━━━━━━━━━━━━━━━━━━━━━━━━━━━━━━━━━━━━━━━━\u001b[0m \u001b[32m1.7/1.7 MB\u001b[0m \u001b[31m18.5 MB/s\u001b[0m eta \u001b[36m0:00:00\u001b[0m\n",
            "\u001b[?25hInstalling collected packages: keras\n",
            "  Attempting uninstall: keras\n",
            "    Found existing installation: keras 3.8.0\n",
            "    Uninstalling keras-3.8.0:\n",
            "      Successfully uninstalled keras-3.8.0\n",
            "Successfully installed keras-2.14.0\n",
            "Collecting matplotlib==3.7.1\n",
            "  Downloading matplotlib-3.7.1-cp311-cp311-manylinux_2_17_x86_64.manylinux2014_x86_64.whl.metadata (5.6 kB)\n",
            "Requirement already satisfied: contourpy>=1.0.1 in /usr/local/lib/python3.11/dist-packages (from matplotlib==3.7.1) (1.3.2)\n",
            "Requirement already satisfied: cycler>=0.10 in /usr/local/lib/python3.11/dist-packages (from matplotlib==3.7.1) (0.12.1)\n",
            "Requirement already satisfied: fonttools>=4.22.0 in /usr/local/lib/python3.11/dist-packages (from matplotlib==3.7.1) (4.57.0)\n",
            "Requirement already satisfied: kiwisolver>=1.0.1 in /usr/local/lib/python3.11/dist-packages (from matplotlib==3.7.1) (1.4.8)\n",
            "Requirement already satisfied: numpy>=1.20 in /usr/local/lib/python3.11/dist-packages (from matplotlib==3.7.1) (2.0.2)\n",
            "Requirement already satisfied: packaging>=20.0 in /usr/local/lib/python3.11/dist-packages (from matplotlib==3.7.1) (25.0)\n",
            "Requirement already satisfied: pillow>=6.2.0 in /usr/local/lib/python3.11/dist-packages (from matplotlib==3.7.1) (11.2.1)\n",
            "Requirement already satisfied: pyparsing>=2.3.1 in /usr/local/lib/python3.11/dist-packages (from matplotlib==3.7.1) (3.2.3)\n",
            "Requirement already satisfied: python-dateutil>=2.7 in /usr/local/lib/python3.11/dist-packages (from matplotlib==3.7.1) (2.9.0.post0)\n",
            "Requirement already satisfied: six>=1.5 in /usr/local/lib/python3.11/dist-packages (from python-dateutil>=2.7->matplotlib==3.7.1) (1.17.0)\n",
            "Downloading matplotlib-3.7.1-cp311-cp311-manylinux_2_17_x86_64.manylinux2014_x86_64.whl (11.6 MB)\n",
            "\u001b[2K   \u001b[90m━━━━━━━━━━━━━━━━━━━━━━━━━━━━━━━━━━━━━━━━\u001b[0m \u001b[32m11.6/11.6 MB\u001b[0m \u001b[31m111.4 MB/s\u001b[0m eta \u001b[36m0:00:00\u001b[0m\n",
            "\u001b[?25hInstalling collected packages: matplotlib\n",
            "  Attempting uninstall: matplotlib\n",
            "    Found existing installation: matplotlib 3.10.0\n",
            "    Uninstalling matplotlib-3.10.0:\n",
            "      Successfully uninstalled matplotlib-3.10.0\n",
            "Successfully installed matplotlib-3.7.1\n"
          ]
        },
        {
          "output_type": "display_data",
          "data": {
            "application/vnd.colab-display-data+json": {
              "pip_warning": {
                "packages": [
                  "matplotlib",
                  "mpl_toolkits"
                ]
              },
              "id": "341fde5610394ae5bcd2b87530a6b6de"
            }
          },
          "metadata": {}
        },
        {
          "output_type": "stream",
          "name": "stdout",
          "text": [
            "Collecting numpy==1.23.5\n",
            "  Downloading numpy-1.23.5-cp311-cp311-manylinux_2_17_x86_64.manylinux2014_x86_64.whl.metadata (2.3 kB)\n",
            "Downloading numpy-1.23.5-cp311-cp311-manylinux_2_17_x86_64.manylinux2014_x86_64.whl (17.1 MB)\n",
            "\u001b[2K   \u001b[90m━━━━━━━━━━━━━━━━━━━━━━━━━━━━━━━━━━━━━━━━\u001b[0m \u001b[32m17.1/17.1 MB\u001b[0m \u001b[31m110.8 MB/s\u001b[0m eta \u001b[36m0:00:00\u001b[0m\n",
            "\u001b[?25hInstalling collected packages: numpy\n",
            "  Attempting uninstall: numpy\n",
            "    Found existing installation: numpy 2.0.2\n",
            "    Uninstalling numpy-2.0.2:\n",
            "      Successfully uninstalled numpy-2.0.2\n",
            "\u001b[31mERROR: pip's dependency resolver does not currently take into account all the packages that are installed. This behaviour is the source of the following dependency conflicts.\n",
            "thinc 8.3.6 requires numpy<3.0.0,>=2.0.0, but you have numpy 1.23.5 which is incompatible.\n",
            "jax 0.5.2 requires numpy>=1.25, but you have numpy 1.23.5 which is incompatible.\n",
            "scikit-image 0.25.2 requires numpy>=1.24, but you have numpy 1.23.5 which is incompatible.\n",
            "jaxlib 0.5.1 requires numpy>=1.25, but you have numpy 1.23.5 which is incompatible.\n",
            "treescope 0.1.9 requires numpy>=1.25.2, but you have numpy 1.23.5 which is incompatible.\n",
            "chex 0.1.89 requires numpy>=1.24.1, but you have numpy 1.23.5 which is incompatible.\n",
            "numba 0.61.2 requires numpy<2.3,>=1.24, but you have numpy 1.23.5 which is incompatible.\u001b[0m\u001b[31m\n",
            "\u001b[0mSuccessfully installed numpy-1.23.5\n"
          ]
        },
        {
          "output_type": "display_data",
          "data": {
            "application/vnd.colab-display-data+json": {
              "pip_warning": {
                "packages": [
                  "numpy"
                ]
              },
              "id": "dee203f55fae4389a10515b87a757b6a"
            }
          },
          "metadata": {}
        },
        {
          "output_type": "stream",
          "name": "stdout",
          "text": [
            "Collecting opencv-contrib-python==4.8.0.76\n",
            "  Downloading opencv_contrib_python-4.8.0.76-cp37-abi3-manylinux_2_17_x86_64.manylinux2014_x86_64.whl.metadata (19 kB)\n",
            "Requirement already satisfied: numpy>=1.21.2 in /usr/local/lib/python3.11/dist-packages (from opencv-contrib-python==4.8.0.76) (1.23.5)\n",
            "Downloading opencv_contrib_python-4.8.0.76-cp37-abi3-manylinux_2_17_x86_64.manylinux2014_x86_64.whl (67.8 MB)\n",
            "\u001b[2K   \u001b[90m━━━━━━━━━━━━━━━━━━━━━━━━━━━━━━━━━━━━━━━━\u001b[0m \u001b[32m67.8/67.8 MB\u001b[0m \u001b[31m18.3 MB/s\u001b[0m eta \u001b[36m0:00:00\u001b[0m\n",
            "\u001b[?25hInstalling collected packages: opencv-contrib-python\n",
            "Successfully installed opencv-contrib-python-4.8.0.76\n",
            "Collecting opencv-python==4.8.0.76\n",
            "  Downloading opencv_python-4.8.0.76-cp37-abi3-manylinux_2_17_x86_64.manylinux2014_x86_64.whl.metadata (19 kB)\n",
            "Requirement already satisfied: numpy>=1.21.2 in /usr/local/lib/python3.11/dist-packages (from opencv-python==4.8.0.76) (1.23.5)\n",
            "Downloading opencv_python-4.8.0.76-cp37-abi3-manylinux_2_17_x86_64.manylinux2014_x86_64.whl (61.7 MB)\n",
            "\u001b[2K   \u001b[90m━━━━━━━━━━━━━━━━━━━━━━━━━━━━━━━━━━━━━━━━\u001b[0m \u001b[32m61.7/61.7 MB\u001b[0m \u001b[31m21.1 MB/s\u001b[0m eta \u001b[36m0:00:00\u001b[0m\n",
            "\u001b[?25hInstalling collected packages: opencv-python\n",
            "  Attempting uninstall: opencv-python\n",
            "    Found existing installation: opencv-python 4.11.0.86\n",
            "    Uninstalling opencv-python-4.11.0.86:\n",
            "      Successfully uninstalled opencv-python-4.11.0.86\n",
            "Successfully installed opencv-python-4.8.0.76\n",
            "Collecting pillow==9.4.0\n",
            "  Downloading Pillow-9.4.0-cp311-cp311-manylinux_2_28_x86_64.whl.metadata (9.3 kB)\n",
            "Downloading Pillow-9.4.0-cp311-cp311-manylinux_2_28_x86_64.whl (3.4 MB)\n",
            "\u001b[2K   \u001b[90m━━━━━━━━━━━━━━━━━━━━━━━━━━━━━━━━━━━━━━━━\u001b[0m \u001b[32m3.4/3.4 MB\u001b[0m \u001b[31m31.0 MB/s\u001b[0m eta \u001b[36m0:00:00\u001b[0m\n",
            "\u001b[?25hInstalling collected packages: pillow\n",
            "  Attempting uninstall: pillow\n",
            "    Found existing installation: pillow 11.2.1\n",
            "    Uninstalling pillow-11.2.1:\n",
            "      Successfully uninstalled pillow-11.2.1\n",
            "\u001b[31mERROR: pip's dependency resolver does not currently take into account all the packages that are installed. This behaviour is the source of the following dependency conflicts.\n",
            "scikit-image 0.25.2 requires numpy>=1.24, but you have numpy 1.23.5 which is incompatible.\n",
            "scikit-image 0.25.2 requires pillow>=10.1, but you have pillow 9.4.0 which is incompatible.\u001b[0m\u001b[31m\n",
            "\u001b[0mSuccessfully installed pillow-9.4.0\n"
          ]
        },
        {
          "output_type": "display_data",
          "data": {
            "application/vnd.colab-display-data+json": {
              "pip_warning": {
                "packages": [
                  "PIL"
                ]
              },
              "id": "f7bed428acca4f7a81631f2a8b2b05a4"
            }
          },
          "metadata": {}
        },
        {
          "output_type": "stream",
          "name": "stdout",
          "text": [
            "Collecting tensorflow==2.12.0\n",
            "  Downloading tensorflow-2.12.0-cp311-cp311-manylinux_2_17_x86_64.manylinux2014_x86_64.whl.metadata (3.4 kB)\n",
            "Requirement already satisfied: absl-py>=1.0.0 in /usr/local/lib/python3.11/dist-packages (from tensorflow==2.12.0) (1.4.0)\n",
            "Collecting astunparse>=1.6.0 (from tensorflow==2.12.0)\n",
            "  Downloading astunparse-1.6.3-py2.py3-none-any.whl.metadata (4.4 kB)\n",
            "Collecting flatbuffers>=2.0 (from tensorflow==2.12.0)\n",
            "  Downloading flatbuffers-25.2.10-py2.py3-none-any.whl.metadata (875 bytes)\n",
            "Collecting gast<=0.4.0,>=0.2.1 (from tensorflow==2.12.0)\n",
            "  Downloading gast-0.4.0-py3-none-any.whl.metadata (1.1 kB)\n",
            "Collecting google-pasta>=0.1.1 (from tensorflow==2.12.0)\n",
            "  Downloading google_pasta-0.2.0-py3-none-any.whl.metadata (814 bytes)\n",
            "Requirement already satisfied: grpcio<2.0,>=1.24.3 in /usr/local/lib/python3.11/dist-packages (from tensorflow==2.12.0) (1.71.0)\n",
            "Requirement already satisfied: h5py>=2.9.0 in /usr/local/lib/python3.11/dist-packages (from tensorflow==2.12.0) (3.9.0)\n",
            "Requirement already satisfied: jax>=0.3.15 in /usr/local/lib/python3.11/dist-packages (from tensorflow==2.12.0) (0.5.2)\n",
            "Collecting keras<2.13,>=2.12.0 (from tensorflow==2.12.0)\n",
            "  Downloading keras-2.12.0-py2.py3-none-any.whl.metadata (1.4 kB)\n",
            "Collecting libclang>=13.0.0 (from tensorflow==2.12.0)\n",
            "  Downloading libclang-18.1.1-py2.py3-none-manylinux2010_x86_64.whl.metadata (5.2 kB)\n",
            "Requirement already satisfied: numpy<1.24,>=1.22 in /usr/local/lib/python3.11/dist-packages (from tensorflow==2.12.0) (1.23.5)\n",
            "Requirement already satisfied: opt-einsum>=2.3.2 in /usr/local/lib/python3.11/dist-packages (from tensorflow==2.12.0) (3.4.0)\n",
            "Requirement already satisfied: packaging in /usr/local/lib/python3.11/dist-packages (from tensorflow==2.12.0) (25.0)\n",
            "Collecting protobuf!=4.21.0,!=4.21.1,!=4.21.2,!=4.21.3,!=4.21.4,!=4.21.5,<5.0.0dev,>=3.20.3 (from tensorflow==2.12.0)\n",
            "  Downloading protobuf-4.25.7-cp37-abi3-manylinux2014_x86_64.whl.metadata (541 bytes)\n",
            "Requirement already satisfied: setuptools in /usr/local/lib/python3.11/dist-packages (from tensorflow==2.12.0) (75.2.0)\n",
            "Requirement already satisfied: six>=1.12.0 in /usr/local/lib/python3.11/dist-packages (from tensorflow==2.12.0) (1.17.0)\n",
            "Collecting tensorboard<2.13,>=2.12 (from tensorflow==2.12.0)\n",
            "  Downloading tensorboard-2.12.3-py3-none-any.whl.metadata (1.8 kB)\n",
            "Collecting tensorflow-estimator<2.13,>=2.12.0 (from tensorflow==2.12.0)\n",
            "  Downloading tensorflow_estimator-2.12.0-py2.py3-none-any.whl.metadata (1.3 kB)\n",
            "Requirement already satisfied: termcolor>=1.1.0 in /usr/local/lib/python3.11/dist-packages (from tensorflow==2.12.0) (3.1.0)\n",
            "Requirement already satisfied: typing-extensions>=3.6.6 in /usr/local/lib/python3.11/dist-packages (from tensorflow==2.12.0) (4.13.2)\n",
            "Collecting wrapt<1.15,>=1.11.0 (from tensorflow==2.12.0)\n",
            "  Downloading wrapt-1.14.1-cp311-cp311-manylinux_2_5_x86_64.manylinux1_x86_64.manylinux_2_17_x86_64.manylinux2014_x86_64.whl.metadata (6.7 kB)\n",
            "Collecting tensorflow-io-gcs-filesystem>=0.23.1 (from tensorflow==2.12.0)\n",
            "  Downloading tensorflow_io_gcs_filesystem-0.37.1-cp311-cp311-manylinux_2_17_x86_64.manylinux2014_x86_64.whl.metadata (14 kB)\n",
            "Collecting wheel<1.0,>=0.23.0 (from astunparse>=1.6.0->tensorflow==2.12.0)\n",
            "  Downloading wheel-0.45.1-py3-none-any.whl.metadata (2.3 kB)\n",
            "Requirement already satisfied: jaxlib<=0.5.2,>=0.5.1 in /usr/local/lib/python3.11/dist-packages (from jax>=0.3.15->tensorflow==2.12.0) (0.5.1)\n",
            "Requirement already satisfied: ml_dtypes>=0.4.0 in /usr/local/lib/python3.11/dist-packages (from jax>=0.3.15->tensorflow==2.12.0) (0.5.1)\n",
            "INFO: pip is looking at multiple versions of jax to determine which version is compatible with other requirements. This could take a while.\n",
            "Collecting jax>=0.3.15 (from tensorflow==2.12.0)\n",
            "  Downloading jax-0.6.0-py3-none-any.whl.metadata (22 kB)\n",
            "Collecting jaxlib<=0.6.0,>=0.6.0 (from jax>=0.3.15->tensorflow==2.12.0)\n",
            "  Downloading jaxlib-0.6.0-cp311-cp311-manylinux2014_x86_64.whl.metadata (1.2 kB)\n",
            "Collecting jax>=0.3.15 (from tensorflow==2.12.0)\n",
            "  Downloading jax-0.5.3-py3-none-any.whl.metadata (22 kB)\n",
            "Collecting jaxlib<=0.5.3,>=0.5.3 (from jax>=0.3.15->tensorflow==2.12.0)\n",
            "  Downloading jaxlib-0.5.3-cp311-cp311-manylinux2014_x86_64.whl.metadata (1.2 kB)\n",
            "Collecting jax>=0.3.15 (from tensorflow==2.12.0)\n",
            "  Downloading jax-0.5.1-py3-none-any.whl.metadata (22 kB)\n",
            "  Downloading jax-0.5.0-py3-none-any.whl.metadata (22 kB)\n",
            "Collecting jaxlib<=0.5.0,>=0.5.0 (from jax>=0.3.15->tensorflow==2.12.0)\n",
            "  Downloading jaxlib-0.5.0-cp311-cp311-manylinux2014_x86_64.whl.metadata (978 bytes)\n",
            "Collecting jax>=0.3.15 (from tensorflow==2.12.0)\n",
            "  Downloading jax-0.4.38-py3-none-any.whl.metadata (22 kB)\n",
            "Collecting jaxlib<=0.4.38,>=0.4.38 (from jax>=0.3.15->tensorflow==2.12.0)\n",
            "  Downloading jaxlib-0.4.38-cp311-cp311-manylinux2014_x86_64.whl.metadata (1.0 kB)\n",
            "Collecting jax>=0.3.15 (from tensorflow==2.12.0)\n",
            "  Downloading jax-0.4.37-py3-none-any.whl.metadata (22 kB)\n",
            "Collecting jaxlib<=0.4.37,>=0.4.36 (from jax>=0.3.15->tensorflow==2.12.0)\n",
            "  Downloading jaxlib-0.4.36-cp311-cp311-manylinux2014_x86_64.whl.metadata (1.0 kB)\n",
            "Collecting jax>=0.3.15 (from tensorflow==2.12.0)\n",
            "  Downloading jax-0.4.36-py3-none-any.whl.metadata (22 kB)\n",
            "INFO: pip is still looking at multiple versions of jax to determine which version is compatible with other requirements. This could take a while.\n",
            "  Downloading jax-0.4.35-py3-none-any.whl.metadata (22 kB)\n",
            "Collecting jaxlib<=0.4.35,>=0.4.34 (from jax>=0.3.15->tensorflow==2.12.0)\n",
            "  Downloading jaxlib-0.4.35-cp311-cp311-manylinux2014_x86_64.whl.metadata (983 bytes)\n",
            "Collecting jax>=0.3.15 (from tensorflow==2.12.0)\n",
            "  Downloading jax-0.4.34-py3-none-any.whl.metadata (22 kB)\n",
            "Collecting jaxlib<=0.4.34,>=0.4.34 (from jax>=0.3.15->tensorflow==2.12.0)\n",
            "  Downloading jaxlib-0.4.34-cp311-cp311-manylinux2014_x86_64.whl.metadata (983 bytes)\n",
            "Collecting jax>=0.3.15 (from tensorflow==2.12.0)\n",
            "  Downloading jax-0.4.33-py3-none-any.whl.metadata (22 kB)\n",
            "Collecting jaxlib<=0.4.33,>=0.4.33 (from jax>=0.3.15->tensorflow==2.12.0)\n",
            "  Downloading jaxlib-0.4.33-cp311-cp311-manylinux2014_x86_64.whl.metadata (983 bytes)\n",
            "Collecting jax>=0.3.15 (from tensorflow==2.12.0)\n",
            "  Downloading jax-0.4.31-py3-none-any.whl.metadata (22 kB)\n",
            "Collecting jaxlib<=0.4.31,>=0.4.30 (from jax>=0.3.15->tensorflow==2.12.0)\n",
            "  Downloading jaxlib-0.4.31-cp311-cp311-manylinux2014_x86_64.whl.metadata (983 bytes)\n",
            "Collecting jax>=0.3.15 (from tensorflow==2.12.0)\n",
            "  Downloading jax-0.4.30-py3-none-any.whl.metadata (22 kB)\n",
            "Collecting jaxlib<=0.4.30,>=0.4.27 (from jax>=0.3.15->tensorflow==2.12.0)\n",
            "  Downloading jaxlib-0.4.30-cp311-cp311-manylinux2014_x86_64.whl.metadata (1.0 kB)\n",
            "Requirement already satisfied: scipy>=1.9 in /usr/local/lib/python3.11/dist-packages (from jax>=0.3.15->tensorflow==2.12.0) (1.15.2)\n",
            "Requirement already satisfied: google-auth<3,>=1.6.3 in /usr/local/lib/python3.11/dist-packages (from tensorboard<2.13,>=2.12->tensorflow==2.12.0) (2.38.0)\n",
            "Collecting google-auth-oauthlib<1.1,>=0.5 (from tensorboard<2.13,>=2.12->tensorflow==2.12.0)\n",
            "  Downloading google_auth_oauthlib-1.0.0-py2.py3-none-any.whl.metadata (2.7 kB)\n",
            "Requirement already satisfied: markdown>=2.6.8 in /usr/lib/python3/dist-packages (from tensorboard<2.13,>=2.12->tensorflow==2.12.0) (3.3.6)\n",
            "Requirement already satisfied: requests<3,>=2.21.0 in /usr/local/lib/python3.11/dist-packages (from tensorboard<2.13,>=2.12->tensorflow==2.12.0) (2.32.3)\n",
            "Collecting tensorboard-data-server<0.8.0,>=0.7.0 (from tensorboard<2.13,>=2.12->tensorflow==2.12.0)\n",
            "  Downloading tensorboard_data_server-0.7.2-py3-none-manylinux_2_31_x86_64.whl.metadata (1.1 kB)\n",
            "Collecting werkzeug>=1.0.1 (from tensorboard<2.13,>=2.12->tensorflow==2.12.0)\n",
            "  Downloading werkzeug-3.1.3-py3-none-any.whl.metadata (3.7 kB)\n",
            "Requirement already satisfied: cachetools<6.0,>=2.0.0 in /usr/local/lib/python3.11/dist-packages (from google-auth<3,>=1.6.3->tensorboard<2.13,>=2.12->tensorflow==2.12.0) (5.5.2)\n",
            "Requirement already satisfied: pyasn1-modules>=0.2.1 in /usr/local/lib/python3.11/dist-packages (from google-auth<3,>=1.6.3->tensorboard<2.13,>=2.12->tensorflow==2.12.0) (0.4.2)\n",
            "Requirement already satisfied: rsa<5,>=3.1.4 in /usr/local/lib/python3.11/dist-packages (from google-auth<3,>=1.6.3->tensorboard<2.13,>=2.12->tensorflow==2.12.0) (4.9.1)\n",
            "Requirement already satisfied: requests-oauthlib>=0.7.0 in /usr/local/lib/python3.11/dist-packages (from google-auth-oauthlib<1.1,>=0.5->tensorboard<2.13,>=2.12->tensorflow==2.12.0) (2.0.0)\n",
            "Requirement already satisfied: charset-normalizer<4,>=2 in /usr/local/lib/python3.11/dist-packages (from requests<3,>=2.21.0->tensorboard<2.13,>=2.12->tensorflow==2.12.0) (3.4.1)\n",
            "Requirement already satisfied: idna<4,>=2.5 in /usr/local/lib/python3.11/dist-packages (from requests<3,>=2.21.0->tensorboard<2.13,>=2.12->tensorflow==2.12.0) (3.10)\n",
            "Requirement already satisfied: urllib3<3,>=1.21.1 in /usr/local/lib/python3.11/dist-packages (from requests<3,>=2.21.0->tensorboard<2.13,>=2.12->tensorflow==2.12.0) (2.4.0)\n",
            "Requirement already satisfied: certifi>=2017.4.17 in /usr/local/lib/python3.11/dist-packages (from requests<3,>=2.21.0->tensorboard<2.13,>=2.12->tensorflow==2.12.0) (2025.4.26)\n",
            "Requirement already satisfied: MarkupSafe>=2.1.1 in /usr/local/lib/python3.11/dist-packages (from werkzeug>=1.0.1->tensorboard<2.13,>=2.12->tensorflow==2.12.0) (3.0.2)\n",
            "Requirement already satisfied: pyasn1<0.7.0,>=0.6.1 in /usr/local/lib/python3.11/dist-packages (from pyasn1-modules>=0.2.1->google-auth<3,>=1.6.3->tensorboard<2.13,>=2.12->tensorflow==2.12.0) (0.6.1)\n",
            "Requirement already satisfied: oauthlib>=3.0.0 in /usr/local/lib/python3.11/dist-packages (from requests-oauthlib>=0.7.0->google-auth-oauthlib<1.1,>=0.5->tensorboard<2.13,>=2.12->tensorflow==2.12.0) (3.2.2)\n",
            "Downloading tensorflow-2.12.0-cp311-cp311-manylinux_2_17_x86_64.manylinux2014_x86_64.whl (586.0 MB)\n",
            "\u001b[2K   \u001b[90m━━━━━━━━━━━━━━━━━━━━━━━━━━━━━━━━━━━━━━━━\u001b[0m \u001b[32m586.0/586.0 MB\u001b[0m \u001b[31m1.4 MB/s\u001b[0m eta \u001b[36m0:00:00\u001b[0m\n",
            "\u001b[?25hDownloading astunparse-1.6.3-py2.py3-none-any.whl (12 kB)\n",
            "Downloading flatbuffers-25.2.10-py2.py3-none-any.whl (30 kB)\n",
            "Downloading gast-0.4.0-py3-none-any.whl (9.8 kB)\n",
            "Downloading google_pasta-0.2.0-py3-none-any.whl (57 kB)\n",
            "\u001b[2K   \u001b[90m━━━━━━━━━━━━━━━━━━━━━━━━━━━━━━━━━━━━━━━━\u001b[0m \u001b[32m57.5/57.5 kB\u001b[0m \u001b[31m4.4 MB/s\u001b[0m eta \u001b[36m0:00:00\u001b[0m\n",
            "\u001b[?25hDownloading jax-0.4.30-py3-none-any.whl (2.0 MB)\n",
            "\u001b[2K   \u001b[90m━━━━━━━━━━━━━━━━━━━━━━━━━━━━━━━━━━━━━━━━\u001b[0m \u001b[32m2.0/2.0 MB\u001b[0m \u001b[31m77.6 MB/s\u001b[0m eta \u001b[36m0:00:00\u001b[0m\n",
            "\u001b[?25hDownloading keras-2.12.0-py2.py3-none-any.whl (1.7 MB)\n",
            "\u001b[2K   \u001b[90m━━━━━━━━━━━━━━━━━━━━━━━━━━━━━━━━━━━━━━━━\u001b[0m \u001b[32m1.7/1.7 MB\u001b[0m \u001b[31m65.7 MB/s\u001b[0m eta \u001b[36m0:00:00\u001b[0m\n",
            "\u001b[?25hDownloading libclang-18.1.1-py2.py3-none-manylinux2010_x86_64.whl (24.5 MB)\n",
            "\u001b[2K   \u001b[90m━━━━━━━━━━━━━━━━━━━━━━━━━━━━━━━━━━━━━━━━\u001b[0m \u001b[32m24.5/24.5 MB\u001b[0m \u001b[31m83.4 MB/s\u001b[0m eta \u001b[36m0:00:00\u001b[0m\n",
            "\u001b[?25hDownloading protobuf-4.25.7-cp37-abi3-manylinux2014_x86_64.whl (294 kB)\n",
            "\u001b[2K   \u001b[90m━━━━━━━━━━━━━━━━━━━━━━━━━━━━━━━━━━━━━━━━\u001b[0m \u001b[32m294.6/294.6 kB\u001b[0m \u001b[31m18.6 MB/s\u001b[0m eta \u001b[36m0:00:00\u001b[0m\n",
            "\u001b[?25hDownloading tensorboard-2.12.3-py3-none-any.whl (5.6 MB)\n",
            "\u001b[2K   \u001b[90m━━━━━━━━━━━━━━━━━━━━━━━━━━━━━━━━━━━━━━━━\u001b[0m \u001b[32m5.6/5.6 MB\u001b[0m \u001b[31m117.3 MB/s\u001b[0m eta \u001b[36m0:00:00\u001b[0m\n",
            "\u001b[?25hDownloading tensorflow_estimator-2.12.0-py2.py3-none-any.whl (440 kB)\n",
            "\u001b[2K   \u001b[90m━━━━━━━━━━━━━━━━━━━━━━━━━━━━━━━━━━━━━━━━\u001b[0m \u001b[32m440.7/440.7 kB\u001b[0m \u001b[31m27.1 MB/s\u001b[0m eta \u001b[36m0:00:00\u001b[0m\n",
            "\u001b[?25hDownloading tensorflow_io_gcs_filesystem-0.37.1-cp311-cp311-manylinux_2_17_x86_64.manylinux2014_x86_64.whl (5.1 MB)\n",
            "\u001b[2K   \u001b[90m━━━━━━━━━━━━━━━━━━━━━━━━━━━━━━━━━━━━━━━━\u001b[0m \u001b[32m5.1/5.1 MB\u001b[0m \u001b[31m113.1 MB/s\u001b[0m eta \u001b[36m0:00:00\u001b[0m\n",
            "\u001b[?25hDownloading wrapt-1.14.1-cp311-cp311-manylinux_2_5_x86_64.manylinux1_x86_64.manylinux_2_17_x86_64.manylinux2014_x86_64.whl (78 kB)\n",
            "\u001b[2K   \u001b[90m━━━━━━━━━━━━━━━━━━━━━━━━━━━━━━━━━━━━━━━━\u001b[0m \u001b[32m78.4/78.4 kB\u001b[0m \u001b[31m6.1 MB/s\u001b[0m eta \u001b[36m0:00:00\u001b[0m\n",
            "\u001b[?25hDownloading google_auth_oauthlib-1.0.0-py2.py3-none-any.whl (18 kB)\n",
            "Downloading jaxlib-0.4.30-cp311-cp311-manylinux2014_x86_64.whl (79.6 MB)\n",
            "\u001b[2K   \u001b[90m━━━━━━━━━━━━━━━━━━━━━━━━━━━━━━━━━━━━━━━━\u001b[0m \u001b[32m79.6/79.6 MB\u001b[0m \u001b[31m15.4 MB/s\u001b[0m eta \u001b[36m0:00:00\u001b[0m\n",
            "\u001b[?25hDownloading tensorboard_data_server-0.7.2-py3-none-manylinux_2_31_x86_64.whl (6.6 MB)\n",
            "\u001b[2K   \u001b[90m━━━━━━━━━━━━━━━━━━━━━━━━━━━━━━━━━━━━━━━━\u001b[0m \u001b[32m6.6/6.6 MB\u001b[0m \u001b[31m121.4 MB/s\u001b[0m eta \u001b[36m0:00:00\u001b[0m\n",
            "\u001b[?25hDownloading werkzeug-3.1.3-py3-none-any.whl (224 kB)\n",
            "\u001b[2K   \u001b[90m━━━━━━━━━━━━━━━━━━━━━━━━━━━━━━━━━━━━━━━━\u001b[0m \u001b[32m224.5/224.5 kB\u001b[0m \u001b[31m16.6 MB/s\u001b[0m eta \u001b[36m0:00:00\u001b[0m\n",
            "\u001b[?25hDownloading wheel-0.45.1-py3-none-any.whl (72 kB)\n",
            "\u001b[2K   \u001b[90m━━━━━━━━━━━━━━━━━━━━━━━━━━━━━━━━━━━━━━━━\u001b[0m \u001b[32m72.5/72.5 kB\u001b[0m \u001b[31m6.3 MB/s\u001b[0m eta \u001b[36m0:00:00\u001b[0m\n",
            "\u001b[?25hInstalling collected packages: libclang, flatbuffers, wrapt, wheel, werkzeug, tensorflow-io-gcs-filesystem, tensorflow-estimator, tensorboard-data-server, protobuf, keras, google-pasta, gast, jaxlib, astunparse, jax, google-auth-oauthlib, tensorboard, tensorflow\n",
            "  Attempting uninstall: wrapt\n",
            "    Found existing installation: wrapt 1.17.2\n",
            "    Uninstalling wrapt-1.17.2:\n",
            "      Successfully uninstalled wrapt-1.17.2\n",
            "  Attempting uninstall: protobuf\n",
            "    Found existing installation: protobuf 5.29.4\n",
            "    Uninstalling protobuf-5.29.4:\n",
            "      Successfully uninstalled protobuf-5.29.4\n",
            "  Attempting uninstall: keras\n",
            "    Found existing installation: keras 2.14.0\n",
            "    Uninstalling keras-2.14.0:\n",
            "      Successfully uninstalled keras-2.14.0\n",
            "  Attempting uninstall: gast\n",
            "    Found existing installation: gast 0.6.0\n",
            "    Uninstalling gast-0.6.0:\n",
            "      Successfully uninstalled gast-0.6.0\n",
            "  Attempting uninstall: jaxlib\n",
            "    Found existing installation: jaxlib 0.5.1\n",
            "    Uninstalling jaxlib-0.5.1:\n",
            "      Successfully uninstalled jaxlib-0.5.1\n",
            "  Attempting uninstall: jax\n",
            "    Found existing installation: jax 0.5.2\n",
            "    Uninstalling jax-0.5.2:\n",
            "      Successfully uninstalled jax-0.5.2\n",
            "  Attempting uninstall: google-auth-oauthlib\n",
            "    Found existing installation: google-auth-oauthlib 1.2.2\n",
            "    Uninstalling google-auth-oauthlib-1.2.2:\n",
            "      Successfully uninstalled google-auth-oauthlib-1.2.2\n",
            "\u001b[31mERROR: pip's dependency resolver does not currently take into account all the packages that are installed. This behaviour is the source of the following dependency conflicts.\n",
            "flax 0.10.6 requires jax>=0.5.1, but you have jax 0.4.30 which is incompatible.\n",
            "chex 0.1.89 requires numpy>=1.24.1, but you have numpy 1.23.5 which is incompatible.\n",
            "orbax-checkpoint 0.11.13 requires jax>=0.5.0, but you have jax 0.4.30 which is incompatible.\u001b[0m\u001b[31m\n",
            "\u001b[0mSuccessfully installed astunparse-1.6.3 flatbuffers-25.2.10 gast-0.4.0 google-auth-oauthlib-1.0.0 google-pasta-0.2.0 jax-0.4.30 jaxlib-0.4.30 keras-2.12.0 libclang-18.1.1 protobuf-4.25.7 tensorboard-2.12.3 tensorboard-data-server-0.7.2 tensorflow-2.12.0 tensorflow-estimator-2.12.0 tensorflow-io-gcs-filesystem-0.37.1 werkzeug-3.1.3 wheel-0.45.1 wrapt-1.14.1\n",
            "Collecting pydicom==2.4\n",
            "  Downloading pydicom-2.4.0-py3-none-any.whl.metadata (7.8 kB)\n",
            "Downloading pydicom-2.4.0-py3-none-any.whl (1.8 MB)\n",
            "\u001b[2K   \u001b[90m━━━━━━━━━━━━━━━━━━━━━━━━━━━━━━━━━━━━━━━━\u001b[0m \u001b[32m1.8/1.8 MB\u001b[0m \u001b[31m19.3 MB/s\u001b[0m eta \u001b[36m0:00:00\u001b[0m\n",
            "\u001b[?25hInstalling collected packages: pydicom\n",
            "Successfully installed pydicom-2.4.0\n"
          ]
        }
      ]
    },
    {
      "cell_type": "code",
      "source": [
        "!git clone https://github.com/z-mahmud22/Mask-RCNN_TF2.14.0.git\n",
        "\n",
        "#!git clone https://github.com/nghi-huynh/Mask_RCNN.git\n",
        "!mv -f Mask-RCNN_TF2.14.0/mrcnn/ .\n",
        "!mv Mask-RCNN_TF2.14.0/samples/nucleus/nucleus.py ."
      ],
      "metadata": {
        "colab": {
          "base_uri": "https://localhost:8080/"
        },
        "id": "6gnU_DLcIyPD",
        "outputId": "5482e498-c725-4eaa-db96-a0251aff37fa"
      },
      "execution_count": 2,
      "outputs": [
        {
          "output_type": "stream",
          "name": "stdout",
          "text": [
            "Cloning into 'Mask-RCNN_TF2.14.0'...\n",
            "remote: Enumerating objects: 255, done.\u001b[K\n",
            "remote: Counting objects: 100% (47/47), done.\u001b[K\n",
            "remote: Compressing objects: 100% (32/32), done.\u001b[K\n",
            "remote: Total 255 (delta 32), reused 15 (delta 15), pack-reused 208 (from 2)\u001b[K\n",
            "Receiving objects: 100% (255/255), 74.90 MiB | 46.54 MiB/s, done.\n",
            "Resolving deltas: 100% (81/81), done.\n"
          ]
        }
      ]
    },
    {
      "cell_type": "code",
      "source": [
        "!rm -rf Mask_RCNN/\n",
        "!rm -rf sample_data/"
      ],
      "metadata": {
        "id": "3rYyb1sRKBJu"
      },
      "execution_count": 3,
      "outputs": []
    },
    {
      "cell_type": "code",
      "source": [
        "import os\n",
        "import sys\n",
        "import itertools\n",
        "import math\n",
        "import logging\n",
        "import json\n",
        "import re\n",
        "import random\n",
        "import time\n",
        "import concurrent.futures\n",
        "import numpy as np\n",
        "import matplotlib\n",
        "import matplotlib.pyplot as plt\n",
        "import matplotlib.patches as patches\n",
        "import matplotlib.lines as lines\n",
        "from matplotlib.patches import Polygon\n",
        "import pandas as pd\n",
        "\n",
        "\n",
        "\n",
        "import nucleus\n",
        "\n",
        "# Root directory of the project\n",
        "ROOT_DIR = os.getcwd()\n",
        "\n",
        "# Import Mask RCNN\n",
        "sys.path.append(ROOT_DIR)\n",
        "from mrcnn import utils\n",
        "from mrcnn import visualize\n",
        "from mrcnn.visualize import display_images\n",
        "from mrcnn import model as modellib\n",
        "from mrcnn.model import log\n",
        "\n",
        "%matplotlib inline"
      ],
      "metadata": {
        "id": "0z1fBIEAKzYN"
      },
      "execution_count": 1,
      "outputs": []
    },
    {
      "cell_type": "code",
      "source": [
        "ROOT_DIR"
      ],
      "metadata": {
        "colab": {
          "base_uri": "https://localhost:8080/",
          "height": 36
        },
        "id": "ggRCPHjreacl",
        "outputId": "06140ea5-5fa4-4ae3-cc9e-95cf5fe3ee09"
      },
      "execution_count": 2,
      "outputs": [
        {
          "output_type": "execute_result",
          "data": {
            "text/plain": [
              "'/content'"
            ],
            "application/vnd.google.colaboratory.intrinsic+json": {
              "type": "string"
            }
          },
          "metadata": {},
          "execution_count": 2
        }
      ]
    },
    {
      "cell_type": "code",
      "source": [
        "# Dataset directory\n",
        "DATASET_DIR = os.path.join(ROOT_DIR, \"nucleus\")"
      ],
      "metadata": {
        "id": "P_4Bo2o9fG3T"
      },
      "execution_count": 3,
      "outputs": []
    },
    {
      "cell_type": "code",
      "source": [
        "DATASET_DIR"
      ],
      "metadata": {
        "colab": {
          "base_uri": "https://localhost:8080/",
          "height": 36
        },
        "id": "5QaijybfpjuK",
        "outputId": "cf8d51c8-43a6-472c-82f1-dff6340d6e31"
      },
      "execution_count": 26,
      "outputs": [
        {
          "output_type": "execute_result",
          "data": {
            "text/plain": [
              "'/content/nucleus'"
            ],
            "application/vnd.google.colaboratory.intrinsic+json": {
              "type": "string"
            }
          },
          "metadata": {},
          "execution_count": 26
        }
      ]
    },
    {
      "cell_type": "code",
      "source": [
        "import os\n",
        "print(os.listdir(DATASET_DIR))\n"
      ],
      "metadata": {
        "id": "I5SuQ_IHMDIz",
        "outputId": "6798d41d-bb0f-461f-9671-ca17911e132d",
        "colab": {
          "base_uri": "https://localhost:8080/"
        }
      },
      "execution_count": 28,
      "outputs": [
        {
          "output_type": "stream",
          "name": "stdout",
          "text": [
            "['train', 'train.csv', 'test']\n"
          ]
        }
      ]
    },
    {
      "cell_type": "code",
      "source": [
        "config = nucleus.NucleusConfig()\n",
        "config.display()"
      ],
      "metadata": {
        "colab": {
          "base_uri": "https://localhost:8080/"
        },
        "id": "9lEln4EF7PxX",
        "outputId": "a89ed127-4b68-4f91-8452-1182683a2254"
      },
      "execution_count": 5,
      "outputs": [
        {
          "output_type": "stream",
          "name": "stdout",
          "text": [
            "\n",
            "Configurations:\n",
            "BACKBONE                       resnet50\n",
            "BACKBONE_STRIDES               [4, 8, 16, 32, 64]\n",
            "BATCH_SIZE                     6\n",
            "BBOX_STD_DEV                   [0.1 0.1 0.2 0.2]\n",
            "COMPUTE_BACKBONE_SHAPE         None\n",
            "DETECTION_MAX_INSTANCES        400\n",
            "DETECTION_MIN_CONFIDENCE       0\n",
            "DETECTION_NMS_THRESHOLD        0.3\n",
            "FPN_CLASSIF_FC_LAYERS_SIZE     1024\n",
            "GPU_COUNT                      1\n",
            "GRADIENT_CLIP_NORM             5.0\n",
            "IMAGES_PER_GPU                 6\n",
            "IMAGE_CHANNEL_COUNT            3\n",
            "IMAGE_MAX_DIM                  512\n",
            "IMAGE_META_SIZE                14\n",
            "IMAGE_MIN_DIM                  512\n",
            "IMAGE_MIN_SCALE                2.0\n",
            "IMAGE_RESIZE_MODE              crop\n",
            "IMAGE_SHAPE                    [512 512   3]\n",
            "LEARNING_MOMENTUM              0.9\n",
            "LEARNING_RATE                  0.001\n",
            "LOSS_WEIGHTS                   {'rpn_class_loss': 1.0, 'rpn_bbox_loss': 1.0, 'mrcnn_class_loss': 1.0, 'mrcnn_bbox_loss': 1.0, 'mrcnn_mask_loss': 1.0}\n",
            "MASK_POOL_SIZE                 14\n",
            "MASK_SHAPE                     [28, 28]\n",
            "MAX_GT_INSTANCES               200\n",
            "MEAN_PIXEL                     [43.53 39.56 48.22]\n",
            "MINI_MASK_SHAPE                (56, 56)\n",
            "NAME                           nucleus\n",
            "NUM_CLASSES                    2\n",
            "POOL_SIZE                      7\n",
            "POST_NMS_ROIS_INFERENCE        2000\n",
            "POST_NMS_ROIS_TRAINING         1000\n",
            "PRE_NMS_LIMIT                  6000\n",
            "ROI_POSITIVE_RATIO             0.33\n",
            "RPN_ANCHOR_RATIOS              [0.5, 1, 2]\n",
            "RPN_ANCHOR_SCALES              (8, 16, 32, 64, 128)\n",
            "RPN_ANCHOR_STRIDE              1\n",
            "RPN_BBOX_STD_DEV               [0.1 0.1 0.2 0.2]\n",
            "RPN_NMS_THRESHOLD              0.9\n",
            "RPN_TRAIN_ANCHORS_PER_IMAGE    64\n",
            "STEPS_PER_EPOCH                105\n",
            "TOP_DOWN_PYRAMID_SIZE          256\n",
            "TRAIN_BN                       False\n",
            "TRAIN_ROIS_PER_IMAGE           128\n",
            "USE_MINI_MASK                  True\n",
            "USE_RPN_ROIS                   True\n",
            "VALIDATION_STEPS               4\n",
            "WEIGHT_DECAY                   0.0001\n",
            "\n",
            "\n"
          ]
        }
      ]
    },
    {
      "cell_type": "markdown",
      "source": [
        "## Dataset\n",
        "We download the dataset from kaggle and put it into a folder called `/content/cell/`."
      ],
      "metadata": {
        "id": "uHNx5JUlIgiQ"
      }
    },
    {
      "cell_type": "code",
      "source": [
        "!pip uninstall -y kaggle\n",
        "!pip install --upgrade pip\n",
        "!pip install kaggle==1.5.6"
      ],
      "metadata": {
        "colab": {
          "base_uri": "https://localhost:8080/"
        },
        "id": "ovBGHxtjgpdn",
        "outputId": "58fbaf04-97a1-4585-d438-620f20068195"
      },
      "execution_count": 6,
      "outputs": [
        {
          "output_type": "stream",
          "name": "stdout",
          "text": [
            "Found existing installation: kaggle 1.7.4.2\n",
            "Uninstalling kaggle-1.7.4.2:\n",
            "  Successfully uninstalled kaggle-1.7.4.2\n",
            "Requirement already satisfied: pip in /usr/local/lib/python3.11/dist-packages (24.1.2)\n",
            "Collecting pip\n",
            "  Downloading pip-25.1.1-py3-none-any.whl.metadata (3.6 kB)\n",
            "Downloading pip-25.1.1-py3-none-any.whl (1.8 MB)\n",
            "\u001b[2K   \u001b[90m━━━━━━━━━━━━━━━━━━━━━━━━━━━━━━━━━━━━━━━━\u001b[0m \u001b[32m1.8/1.8 MB\u001b[0m \u001b[31m19.6 MB/s\u001b[0m eta \u001b[36m0:00:00\u001b[0m\n",
            "\u001b[?25hInstalling collected packages: pip\n",
            "  Attempting uninstall: pip\n",
            "    Found existing installation: pip 24.1.2\n",
            "    Uninstalling pip-24.1.2:\n",
            "      Successfully uninstalled pip-24.1.2\n",
            "Successfully installed pip-25.1.1\n",
            "Collecting kaggle==1.5.6\n",
            "  Downloading kaggle-1.5.6.tar.gz (58 kB)\n",
            "  Preparing metadata (setup.py) ... \u001b[?25l\u001b[?25hdone\n",
            "Collecting urllib3<1.25,>=1.21.1 (from kaggle==1.5.6)\n",
            "  Downloading urllib3-1.24.3-py2.py3-none-any.whl.metadata (36 kB)\n",
            "Requirement already satisfied: six>=1.10 in /usr/local/lib/python3.11/dist-packages (from kaggle==1.5.6) (1.17.0)\n",
            "Requirement already satisfied: certifi in /usr/local/lib/python3.11/dist-packages (from kaggle==1.5.6) (2025.4.26)\n",
            "Requirement already satisfied: python-dateutil in /usr/local/lib/python3.11/dist-packages (from kaggle==1.5.6) (2.9.0.post0)\n",
            "Requirement already satisfied: requests in /usr/local/lib/python3.11/dist-packages (from kaggle==1.5.6) (2.32.3)\n",
            "Requirement already satisfied: tqdm in /usr/local/lib/python3.11/dist-packages (from kaggle==1.5.6) (4.67.1)\n",
            "Requirement already satisfied: python-slugify in /usr/local/lib/python3.11/dist-packages (from kaggle==1.5.6) (8.0.4)\n",
            "Requirement already satisfied: text-unidecode>=1.3 in /usr/local/lib/python3.11/dist-packages (from python-slugify->kaggle==1.5.6) (1.3)\n",
            "Requirement already satisfied: charset-normalizer<4,>=2 in /usr/local/lib/python3.11/dist-packages (from requests->kaggle==1.5.6) (3.4.1)\n",
            "Requirement already satisfied: idna<4,>=2.5 in /usr/local/lib/python3.11/dist-packages (from requests->kaggle==1.5.6) (3.10)\n",
            "Downloading urllib3-1.24.3-py2.py3-none-any.whl (118 kB)\n",
            "Building wheels for collected packages: kaggle\n",
            "\u001b[33m  DEPRECATION: Building 'kaggle' using the legacy setup.py bdist_wheel mechanism, which will be removed in a future version. pip 25.3 will enforce this behaviour change. A possible replacement is to use the standardized build interface by setting the `--use-pep517` option, (possibly combined with `--no-build-isolation`), or adding a `pyproject.toml` file to the source tree of 'kaggle'. Discussion can be found at https://github.com/pypa/pip/issues/6334\u001b[0m\u001b[33m\n",
            "\u001b[0m  Building wheel for kaggle (setup.py) ... \u001b[?25l\u001b[?25hdone\n",
            "  Created wheel for kaggle: filename=kaggle-1.5.6-py3-none-any.whl size=72830 sha256=29c7350196335e280999b1e1eaf787392573bbdfe61f2609c508c37d61682b4c\n",
            "  Stored in directory: /root/.cache/pip/wheels/7d/79/63/75e07211e52ade28ba44f51a6f6d84c8fa1d1f43e9f5e879d8\n",
            "Successfully built kaggle\n",
            "Installing collected packages: urllib3, kaggle\n",
            "\u001b[2K  Attempting uninstall: urllib3\n",
            "\u001b[2K    Found existing installation: urllib3 2.4.0\n",
            "\u001b[2K    Uninstalling urllib3-2.4.0:\n",
            "\u001b[2K      Successfully uninstalled urllib3-2.4.0\n",
            "\u001b[2K   \u001b[90m━━━━━━━━━━━━━━━━━━━━━━━━━━━━━━━━━━━━━━━━\u001b[0m \u001b[32m2/2\u001b[0m [kaggle]\n",
            "\u001b[1A\u001b[2KSuccessfully installed kaggle-1.5.6 urllib3-1.24.3\n"
          ]
        }
      ]
    },
    {
      "cell_type": "code",
      "source": [
        "# enter your Kaggle credentionals here\n",
        "os.environ['KAGGLE_USERNAME']=\"sandradoria89\"\n",
        "os.environ['KAGGLE_KEY']=\"0c57cf7562b5a31f5f54fac8e3246565\""
      ],
      "metadata": {
        "id": "zo0FvPs58oNu"
      },
      "execution_count": 7,
      "outputs": []
    },
    {
      "cell_type": "code",
      "source": [
        "!kaggle competitions download -c sartorius-cell-instance-segmentation"
      ],
      "metadata": {
        "colab": {
          "base_uri": "https://localhost:8080/"
        },
        "id": "nSa5AzIzgwgP",
        "outputId": "cdc3aedc-983a-474e-ce09-e058ae65abaa"
      },
      "execution_count": 9,
      "outputs": [
        {
          "output_type": "stream",
          "name": "stdout",
          "text": [
            "Downloading sartorius-cell-instance-segmentation.zip to /content\n",
            " 99% 2.30G/2.31G [00:15<00:00, 135MB/s]\n",
            "100% 2.31G/2.31G [00:15<00:00, 161MB/s]\n"
          ]
        }
      ]
    },
    {
      "cell_type": "code",
      "source": [
        "print(\"----- unzipping files -----\")\n",
        "!unzip -q /content/sartorius-cell-instance-segmentation.zip"
      ],
      "metadata": {
        "colab": {
          "base_uri": "https://localhost:8080/"
        },
        "id": "qzbjkovrg-Vm",
        "outputId": "75f5f7a8-a6c6-4769-a7fb-bcbeee2a8296"
      },
      "execution_count": 10,
      "outputs": [
        {
          "output_type": "stream",
          "name": "stdout",
          "text": [
            "----- unzipping files -----\n"
          ]
        }
      ]
    },
    {
      "cell_type": "code",
      "source": [
        "!mkdir nucleus\n",
        "!mv train.csv nucleus\n",
        "!mv -f test nucleus\n",
        "!mv -f train nucleus\n",
        "!rm -rf LIVECell_dataset_2021\n",
        "!rm -rf sartorius-cell-instance-segmentation.zip"
      ],
      "metadata": {
        "id": "ITt45KJGhihQ"
      },
      "execution_count": 11,
      "outputs": []
    },
    {
      "cell_type": "code",
      "source": [
        "def load_nucleus(dataset_dir, subset):\n",
        "  image_list=[]\n",
        "  dataset_dir = os.path.join(DATASET_DIR, \"train\")\n",
        "  image_ids = next(os.walk(dataset_dir))\n",
        "  for image_id in image_ids[2]:\n",
        "    image_list.append(os.path.join(dataset_dir, image_id))\n",
        "  return image_list\n",
        "\n",
        "image_list=load_nucleus(DATASET_DIR, \"train\")\n",
        "print(image_list)\n"
      ],
      "metadata": {
        "id": "Jd5CYy0QUklV",
        "outputId": "ffaa936f-1ead-42b5-a78d-2d861d8606d1",
        "colab": {
          "base_uri": "https://localhost:8080/"
        }
      },
      "execution_count": 57,
      "outputs": [
        {
          "output_type": "stream",
          "name": "stdout",
          "text": [
            "['/content/nucleus/train/878db7a5ab51.png', '/content/nucleus/train/37dd4dd6e76e.png', '/content/nucleus/train/1b539d8a8897.png', '/content/nucleus/train/26efe388938c.png', '/content/nucleus/train/478a2c53f075.png', '/content/nucleus/train/5e04f48d34e3.png', '/content/nucleus/train/517648559341.png', '/content/nucleus/train/c8607b0581bf.png', '/content/nucleus/train/e748ac1c469b.png', '/content/nucleus/train/a136a96476b3.png', '/content/nucleus/train/083b178bb184.png', '/content/nucleus/train/93ce48e5227c.png', '/content/nucleus/train/8f276651b26c.png', '/content/nucleus/train/66a902c45432.png', '/content/nucleus/train/d08ec01979f3.png', '/content/nucleus/train/115fad550598.png', '/content/nucleus/train/1e7ac54a9422.png', '/content/nucleus/train/4810ddb4229c.png', '/content/nucleus/train/2dc940ff1a71.png', '/content/nucleus/train/d28e67c1ad17.png', '/content/nucleus/train/d164e96bb7a9.png', '/content/nucleus/train/27f4ea4dd04f.png', '/content/nucleus/train/e6a4f5e6d65d.png', '/content/nucleus/train/9c0f16816345.png', '/content/nucleus/train/8bd09ff70b13.png', '/content/nucleus/train/56e473c7c793.png', '/content/nucleus/train/41c57fe26957.png', '/content/nucleus/train/6e8c9b707724.png', '/content/nucleus/train/5c252798d269.png', '/content/nucleus/train/b1687f869c0a.png', '/content/nucleus/train/c25db38e918e.png', '/content/nucleus/train/853026457c51.png', '/content/nucleus/train/d96878ba3ab6.png', '/content/nucleus/train/1d8ea1f865e0.png', '/content/nucleus/train/e76b2a9735f8.png', '/content/nucleus/train/aff8fb4fc364.png', '/content/nucleus/train/76f6eb941d56.png', '/content/nucleus/train/f982188d7249.png', '/content/nucleus/train/3cb9d7266ea1.png', '/content/nucleus/train/e856f45ec69e.png', '/content/nucleus/train/d1d1ca1bfb8a.png', '/content/nucleus/train/996aad57d020.png', '/content/nucleus/train/e33da393df22.png', '/content/nucleus/train/43d929bd6429.png', '/content/nucleus/train/34e41956f993.png', '/content/nucleus/train/1e55de6c2a34.png', '/content/nucleus/train/e0ad75ccddab.png', '/content/nucleus/train/152bcf26456b.png', '/content/nucleus/train/5b0469b7bd04.png', '/content/nucleus/train/b2a7f3d06a50.png', '/content/nucleus/train/be85d2d45959.png', '/content/nucleus/train/4984db4ec8f3.png', '/content/nucleus/train/8bcc2ef2e81e.png', '/content/nucleus/train/36855e37531a.png', '/content/nucleus/train/f7450aa3df7f.png', '/content/nucleus/train/f6e7e998a190.png', '/content/nucleus/train/1c60d7a7695d.png', '/content/nucleus/train/31e4fa0a83f4.png', '/content/nucleus/train/6955df3e6c27.png', '/content/nucleus/train/b29b7cb8c7e4.png', '/content/nucleus/train/7ad870da5a63.png', '/content/nucleus/train/576c680c66c7.png', '/content/nucleus/train/79b77c62a9f3.png', '/content/nucleus/train/de72de636483.png', '/content/nucleus/train/ae509c50607a.png', '/content/nucleus/train/b3990528329c.png', '/content/nucleus/train/9ae46e01286c.png', '/content/nucleus/train/eac668a9ea37.png', '/content/nucleus/train/90016c8865d3.png', '/content/nucleus/train/79c353271ce9.png', '/content/nucleus/train/87aabe7ab3a5.png', '/content/nucleus/train/606831bd2dd2.png', '/content/nucleus/train/b861811eaff6.png', '/content/nucleus/train/c67dd29ad915.png', '/content/nucleus/train/efdf3822846c.png', '/content/nucleus/train/47c3b766d82e.png', '/content/nucleus/train/caa06f9a4057.png', '/content/nucleus/train/026b3c2c4b32.png', '/content/nucleus/train/74eba54b3ae5.png', '/content/nucleus/train/df54ca550ecd.png', '/content/nucleus/train/c5be3066e673.png', '/content/nucleus/train/56e62b1803c4.png', '/content/nucleus/train/f8902ee8890c.png', '/content/nucleus/train/a1ff383ad7ff.png', '/content/nucleus/train/59eecb1504fa.png', '/content/nucleus/train/af6ae867fe6e.png', '/content/nucleus/train/de35454a3346.png', '/content/nucleus/train/b53a3bfd3bd0.png', '/content/nucleus/train/ed0fcca57fe8.png', '/content/nucleus/train/d3bd573a3dc4.png', '/content/nucleus/train/af54fcc34740.png', '/content/nucleus/train/b9056ac30b4b.png', '/content/nucleus/train/20598fa21a3d.png', '/content/nucleus/train/d575336b8f7a.png', '/content/nucleus/train/c48e1469ac98.png', '/content/nucleus/train/0ea6df67cc77.png', '/content/nucleus/train/0f08d640930b.png', '/content/nucleus/train/1d618b80769f.png', '/content/nucleus/train/c3b32460bcba.png', '/content/nucleus/train/724097951299.png', '/content/nucleus/train/f41cd55e692d.png', '/content/nucleus/train/f40567565202.png', '/content/nucleus/train/6b6f2ee6467a.png', '/content/nucleus/train/15283b194621.png', '/content/nucleus/train/7b67cd233fcd.png', '/content/nucleus/train/4cd85ba270d0.png', '/content/nucleus/train/e4f28f1ea4ee.png', '/content/nucleus/train/7b2818817d0d.png', '/content/nucleus/train/930015180836.png', '/content/nucleus/train/d8353ec73bdf.png', '/content/nucleus/train/5d57448ab949.png', '/content/nucleus/train/d3d272e75cdb.png', '/content/nucleus/train/49d4a04f398c.png', '/content/nucleus/train/0e9b40b10de8.png', '/content/nucleus/train/75a735d52727.png', '/content/nucleus/train/9bc9775ee371.png', '/content/nucleus/train/d7aa803f5b5f.png', '/content/nucleus/train/c6a9863504da.png', '/content/nucleus/train/5bbf4c20aad2.png', '/content/nucleus/train/0c90b86742b2.png', '/content/nucleus/train/88203fd2557d.png', '/content/nucleus/train/e6aff490e966.png', '/content/nucleus/train/4b8dc9c901a6.png', '/content/nucleus/train/529f53145d75.png', '/content/nucleus/train/04928f0866b0.png', '/content/nucleus/train/40d3650f4985.png', '/content/nucleus/train/499a225c835d.png', '/content/nucleus/train/a049e2a265cf.png', '/content/nucleus/train/4e360cb49ae4.png', '/content/nucleus/train/ad12c1357f63.png', '/content/nucleus/train/95ac5f4182fa.png', '/content/nucleus/train/ef866d97431e.png', '/content/nucleus/train/22e0c43da285.png', '/content/nucleus/train/539f24ebc61d.png', '/content/nucleus/train/7b27ca965a93.png', '/content/nucleus/train/d5c06777eee7.png', '/content/nucleus/train/619f91a5c197.png', '/content/nucleus/train/762d6b2ee6da.png', '/content/nucleus/train/08f52aa2add3.png', '/content/nucleus/train/0e1e2b68fa58.png', '/content/nucleus/train/e96b5ddfef20.png', '/content/nucleus/train/5c4f72978ff6.png', '/content/nucleus/train/dc6beb2a50a9.png', '/content/nucleus/train/680c18cb5fea.png', '/content/nucleus/train/f357b9dabe13.png', '/content/nucleus/train/626f74f1e5f6.png', '/content/nucleus/train/bb3520da4cce.png', '/content/nucleus/train/faa16dd8abd3.png', '/content/nucleus/train/815de003cb5b.png', '/content/nucleus/train/2c7b7d0a1573.png', '/content/nucleus/train/25c4b29d2189.png', '/content/nucleus/train/db8bc8f09776.png', '/content/nucleus/train/f555eba5ddc5.png', '/content/nucleus/train/9e8da786a80f.png', '/content/nucleus/train/6f90a53cf326.png', '/content/nucleus/train/2d9fd17da790.png', '/content/nucleus/train/3625dabdf452.png', '/content/nucleus/train/235f6d2095c9.png', '/content/nucleus/train/e41558ca4bae.png', '/content/nucleus/train/1ce663c98a16.png', '/content/nucleus/train/2dbfcf0fc496.png', '/content/nucleus/train/960479eea44e.png', '/content/nucleus/train/44e1c6996c16.png', '/content/nucleus/train/1c10ee85de67.png', '/content/nucleus/train/8c90ed01dfa0.png', '/content/nucleus/train/0030fd0e6378.png', '/content/nucleus/train/fd98d82784a1.png', '/content/nucleus/train/e57626198284.png', '/content/nucleus/train/8050704a02eb.png', '/content/nucleus/train/44a154410273.png', '/content/nucleus/train/05c61f0f46b7.png', '/content/nucleus/train/9379e29d719d.png', '/content/nucleus/train/fac5fa0dd448.png', '/content/nucleus/train/e92c56871769.png', '/content/nucleus/train/94198e5b42a4.png', '/content/nucleus/train/3b3991c64f38.png', '/content/nucleus/train/ffdb3cc02eef.png', '/content/nucleus/train/4f9f9b90a3c1.png', '/content/nucleus/train/68141f4dacd7.png', '/content/nucleus/train/40fddf5f9595.png', '/content/nucleus/train/d248e894403c.png', '/content/nucleus/train/232c47d31333.png', '/content/nucleus/train/7d357c4f7438.png', '/content/nucleus/train/9f1c2cfc936f.png', '/content/nucleus/train/79d271434d64.png', '/content/nucleus/train/2cab2cb161a4.png', '/content/nucleus/train/bf44c49ba659.png', '/content/nucleus/train/c9e81c79ca72.png', '/content/nucleus/train/01ae5a43a2ab.png', '/content/nucleus/train/5eb16b1cf176.png', '/content/nucleus/train/2099abcae734.png', '/content/nucleus/train/fe3e30f849f4.png', '/content/nucleus/train/95de75855f80.png', '/content/nucleus/train/f653c5eec0f8.png', '/content/nucleus/train/fe33dfcf4ebd.png', '/content/nucleus/train/70a94f058409.png', '/content/nucleus/train/7cc6beb96b81.png', '/content/nucleus/train/b684e5076578.png', '/content/nucleus/train/f3b46561d429.png', '/content/nucleus/train/3b70c0fef171.png', '/content/nucleus/train/87a052b69db0.png', '/content/nucleus/train/2be2ec84ac11.png', '/content/nucleus/train/836e5872684a.png', '/content/nucleus/train/6a71d6253a42.png', '/content/nucleus/train/5286d9ca0f92.png', '/content/nucleus/train/9ae06a9d5011.png', '/content/nucleus/train/d62093ffe38d.png', '/content/nucleus/train/dead8d6e0ea8.png', '/content/nucleus/train/213f5c108080.png', '/content/nucleus/train/303e22f9ccd3.png', '/content/nucleus/train/1974fbb27dcf.png', '/content/nucleus/train/c7b6b79d6276.png', '/content/nucleus/train/1f81ad0e1fb6.png', '/content/nucleus/train/57bc63239549.png', '/content/nucleus/train/42d8ecbc95a1.png', '/content/nucleus/train/551738f39e65.png', '/content/nucleus/train/63dbe67dbab4.png', '/content/nucleus/train/5d066f4c3eef.png', '/content/nucleus/train/8650b0110eb6.png', '/content/nucleus/train/c0dff5f1af2f.png', '/content/nucleus/train/c6981f294012.png', '/content/nucleus/train/77f5123c8582.png', '/content/nucleus/train/0a6ecc5fe78a.png', '/content/nucleus/train/7d45ca9a700d.png', '/content/nucleus/train/bee779e5729d.png', '/content/nucleus/train/e013dbefe5c4.png', '/content/nucleus/train/d5a2e9d0e602.png', '/content/nucleus/train/ebaa75979438.png', '/content/nucleus/train/729cc4463650.png', '/content/nucleus/train/ab00526e7901.png', '/content/nucleus/train/2c2cb870da85.png', '/content/nucleus/train/e103a3e85a46.png', '/content/nucleus/train/7570dd2d34bb.png', '/content/nucleus/train/36e480c65aed.png', '/content/nucleus/train/1e60fc475228.png', '/content/nucleus/train/8541146e15d9.png', '/content/nucleus/train/061b49d7dbbb.png', '/content/nucleus/train/630bac646b5a.png', '/content/nucleus/train/a76fe4d00355.png', '/content/nucleus/train/ccf6e108fb22.png', '/content/nucleus/train/6725005514cc.png', '/content/nucleus/train/5df720a4fad6.png', '/content/nucleus/train/d97922f1d446.png', '/content/nucleus/train/f2d0421bcc7b.png', '/content/nucleus/train/4c744a767648.png', '/content/nucleus/train/029e5b3b89c7.png', '/content/nucleus/train/a9fc5e872671.png', '/content/nucleus/train/9c7e1ff93090.png', '/content/nucleus/train/74bb773bab01.png', '/content/nucleus/train/0323e81d23d9.png', '/content/nucleus/train/14dbd973a7cd.png', '/content/nucleus/train/9cfd6ebebc94.png', '/content/nucleus/train/de504eaa5349.png', '/content/nucleus/train/0eca9ecf4987.png', '/content/nucleus/train/795651f7b04a.png', '/content/nucleus/train/957d8951b270.png', '/content/nucleus/train/58b543a236c8.png', '/content/nucleus/train/21b1ae35bd39.png', '/content/nucleus/train/a55cec7ee7a1.png', '/content/nucleus/train/541d7fd43b66.png', '/content/nucleus/train/4cf8f24c2b17.png', '/content/nucleus/train/d81712416572.png', '/content/nucleus/train/100681b6cc7a.png', '/content/nucleus/train/89dceefff181.png', '/content/nucleus/train/4425efbbacfc.png', '/content/nucleus/train/46b08b7eee99.png', '/content/nucleus/train/e33d521aa9de.png', '/content/nucleus/train/1874b96fd317.png', '/content/nucleus/train/315b21b955c6.png', '/content/nucleus/train/7f27bcdc5e5d.png', '/content/nucleus/train/c98b451417f7.png', '/content/nucleus/train/7e30fccf0a91.png', '/content/nucleus/train/3dd0e512b579.png', '/content/nucleus/train/ce453794c74d.png', '/content/nucleus/train/4318b7f15a71.png', '/content/nucleus/train/4698edfd5878.png', '/content/nucleus/train/ad30ecfc1682.png', '/content/nucleus/train/4bdf75f87261.png', '/content/nucleus/train/ba9dd157fb69.png', '/content/nucleus/train/c0b82bc0600d.png', '/content/nucleus/train/7898358115a7.png', '/content/nucleus/train/8966df7b976b.png', '/content/nucleus/train/8e2b69117149.png', '/content/nucleus/train/144a7a69f67d.png', '/content/nucleus/train/0f2a46026693.png', '/content/nucleus/train/ca167f336091.png', '/content/nucleus/train/51c920fcd542.png', '/content/nucleus/train/73c45accba88.png', '/content/nucleus/train/8ae77a7c490c.png', '/content/nucleus/train/3b56cced208e.png', '/content/nucleus/train/0df9d6419078.png', '/content/nucleus/train/24ed4b9f417d.png', '/content/nucleus/train/e9edcd9483e4.png', '/content/nucleus/train/85cbc2e3905e.png', '/content/nucleus/train/049f02e0f764.png', '/content/nucleus/train/03b27b381a5f.png', '/content/nucleus/train/3912a0bede5b.png', '/content/nucleus/train/d09291445961.png', '/content/nucleus/train/1c4f14cce8ee.png', '/content/nucleus/train/798c6a9ca18c.png', '/content/nucleus/train/919748e5c24c.png', '/content/nucleus/train/edbb15612a94.png', '/content/nucleus/train/06c5740c8b18.png', '/content/nucleus/train/3be8cce336d0.png', '/content/nucleus/train/e2fc3f4577e2.png', '/content/nucleus/train/29dfe87f3a44.png', '/content/nucleus/train/cca71932b689.png', '/content/nucleus/train/624d50b5bfd1.png', '/content/nucleus/train/f25af915d4e8.png', '/content/nucleus/train/e117dfd2ae8b.png', '/content/nucleus/train/dd8bcbe5094b.png', '/content/nucleus/train/699757ca44a7.png', '/content/nucleus/train/e97e043aa093.png', '/content/nucleus/train/ac12dab88a3d.png', '/content/nucleus/train/a75cdb426a8e.png', '/content/nucleus/train/4e115eccc68c.png', '/content/nucleus/train/ec5b56d79061.png', '/content/nucleus/train/741edb5bb8f5.png', '/content/nucleus/train/097d60b2cf71.png', '/content/nucleus/train/ececc1fe265d.png', '/content/nucleus/train/59833fe3d0f9.png', '/content/nucleus/train/1d2ca29fef3e.png', '/content/nucleus/train/2e8a61b4f6b5.png', '/content/nucleus/train/f7343d843bbd.png', '/content/nucleus/train/6b2f2fab222f.png', '/content/nucleus/train/9c4661d1509c.png', '/content/nucleus/train/97b66f10b9f5.png', '/content/nucleus/train/f6abc09eb12f.png', '/content/nucleus/train/053d61766edb.png', '/content/nucleus/train/a28407ce196e.png', '/content/nucleus/train/ee6d4d0a17b6.png', '/content/nucleus/train/96304c6e06eb.png', '/content/nucleus/train/13325f865bb0.png', '/content/nucleus/train/a71bd3fbf8f1.png', '/content/nucleus/train/446cf8ba65e5.png', '/content/nucleus/train/c4121689002f.png', '/content/nucleus/train/7d3174bf78a1.png', '/content/nucleus/train/588931a27780.png', '/content/nucleus/train/72d38d5c6be1.png', '/content/nucleus/train/6955f473e6f5.png', '/content/nucleus/train/7d13efbfce6d.png', '/content/nucleus/train/25559c20c6f3.png', '/content/nucleus/train/f64c628ef828.png', '/content/nucleus/train/5863bf795692.png', '/content/nucleus/train/844ca72ea4c0.png', '/content/nucleus/train/8122040d9ecd.png', '/content/nucleus/train/c8522b0f2063.png', '/content/nucleus/train/cb07e23f138a.png', '/content/nucleus/train/d75d5d14fdcb.png', '/content/nucleus/train/9a065ab4fae7.png', '/content/nucleus/train/d8fc6dd956f8.png', '/content/nucleus/train/129f894abe35.png', '/content/nucleus/train/e1e10dd96535.png', '/content/nucleus/train/11c2e4fcac6d.png', '/content/nucleus/train/174793807517.png', '/content/nucleus/train/04cd81dfb245.png', '/content/nucleus/train/48383b66ebd5.png', '/content/nucleus/train/bcf94f6bc975.png', '/content/nucleus/train/042dc0e561a4.png', '/content/nucleus/train/568a4f5d0593.png', '/content/nucleus/train/73df2962444f.png', '/content/nucleus/train/296926b5656b.png', '/content/nucleus/train/91b6e6e0d84d.png', '/content/nucleus/train/c1f3e3b31108.png', '/content/nucleus/train/358c8b7a8204.png', '/content/nucleus/train/34b6c5235ab4.png', '/content/nucleus/train/b4713c32ddbb.png', '/content/nucleus/train/8cc78aff9cc6.png', '/content/nucleus/train/0ba181d412da.png', '/content/nucleus/train/3f29e529f210.png', '/content/nucleus/train/7ca93f81e669.png', '/content/nucleus/train/f0e54d645fe5.png', '/content/nucleus/train/c9d4c2430d92.png', '/content/nucleus/train/ffc2ead3e8cc.png', '/content/nucleus/train/b50a98297c83.png', '/content/nucleus/train/23e6d1174f47.png', '/content/nucleus/train/b208a1b645a1.png', '/content/nucleus/train/86be12afefb6.png', '/content/nucleus/train/56b8cad4f8e7.png', '/content/nucleus/train/1c16d5cb1f30.png', '/content/nucleus/train/c17eac09ff70.png', '/content/nucleus/train/a9cf3efd023a.png', '/content/nucleus/train/ee6ddcdc19ce.png', '/content/nucleus/train/0c5938ac5e3c.png', '/content/nucleus/train/e4632744011e.png', '/content/nucleus/train/17754cb5b287.png', '/content/nucleus/train/18d5d665a6af.png', '/content/nucleus/train/24a07145b24d.png', '/content/nucleus/train/198593a55b7a.png', '/content/nucleus/train/1de9612cb6e1.png', '/content/nucleus/train/1f8ff922773c.png', '/content/nucleus/train/8e7199072220.png', '/content/nucleus/train/adbaf2416db2.png', '/content/nucleus/train/4de92f67c5b8.png', '/content/nucleus/train/52f65c9194c0.png', '/content/nucleus/train/2384e7378d16.png', '/content/nucleus/train/b0c3bd326249.png', '/content/nucleus/train/6867e380fe3c.png', '/content/nucleus/train/642d9cbe7f15.png', '/content/nucleus/train/17d738f88487.png', '/content/nucleus/train/b03de5cbebb2.png', '/content/nucleus/train/ad41b4c2bf73.png', '/content/nucleus/train/9e2bc2d20e43.png', '/content/nucleus/train/2025512a5956.png', '/content/nucleus/train/95e46e2b296f.png', '/content/nucleus/train/dac9a173832d.png', '/content/nucleus/train/c895cf319088.png', '/content/nucleus/train/93ba6784a818.png', '/content/nucleus/train/a686c4329d91.png', '/content/nucleus/train/96b7471ba87d.png', '/content/nucleus/train/a96cf05207fc.png', '/content/nucleus/train/364feb876754.png', '/content/nucleus/train/8501cf5525d4.png', '/content/nucleus/train/4b6ba2567ab0.png', '/content/nucleus/train/45a1f06614f0.png', '/content/nucleus/train/c97cc03675c7.png', '/content/nucleus/train/fbb4fbe7100d.png', '/content/nucleus/train/52e810d1f2f0.png', '/content/nucleus/train/1cc3b45e0399.png', '/content/nucleus/train/84318d167a6c.png', '/content/nucleus/train/1ef6aaa62132.png', '/content/nucleus/train/6b165d790e33.png', '/content/nucleus/train/bc0b9c1ff4dc.png', '/content/nucleus/train/508d39dcc9ef.png', '/content/nucleus/train/45b966b60d4b.png', '/content/nucleus/train/549d34aaf226.png', '/content/nucleus/train/75bcf651967e.png', '/content/nucleus/train/194f7e69779b.png', '/content/nucleus/train/4378ec854810.png', '/content/nucleus/train/9d23373b7bf8.png', '/content/nucleus/train/abd3833b5ac1.png', '/content/nucleus/train/9b362a5983ae.png', '/content/nucleus/train/1395c3f12b7c.png', '/content/nucleus/train/41a1f09b4f4e.png', '/content/nucleus/train/3c270e8e347a.png', '/content/nucleus/train/8d0f8970d171.png', '/content/nucleus/train/af890034c1b6.png', '/content/nucleus/train/b307d66eb656.png', '/content/nucleus/train/48a750fc02a2.png', '/content/nucleus/train/90a3e24b62b0.png', '/content/nucleus/train/5bc68ac7426e.png', '/content/nucleus/train/ebffbf1cfe00.png', '/content/nucleus/train/a55a105360b8.png', '/content/nucleus/train/f717a5f6d473.png', '/content/nucleus/train/874f3f4e1e6b.png', '/content/nucleus/train/4cf637b37b8b.png', '/content/nucleus/train/82c638427f2f.png', '/content/nucleus/train/0140b3c8f445.png', '/content/nucleus/train/279107cc7fe4.png', '/content/nucleus/train/e460317d8ca9.png', '/content/nucleus/train/16e538bbe8c5.png', '/content/nucleus/train/4b21aa9b6c84.png', '/content/nucleus/train/b89f9cca5384.png', '/content/nucleus/train/71d6e508abdc.png', '/content/nucleus/train/eec79772cb99.png', '/content/nucleus/train/f76d1d2d5405.png', '/content/nucleus/train/afbcea22fc2a.png', '/content/nucleus/train/f2e0ce316b7e.png', '/content/nucleus/train/47fb5fcff2de.png', '/content/nucleus/train/085eb8fec206.png', '/content/nucleus/train/8a60bdad42ff.png', '/content/nucleus/train/4b701c599d33.png', '/content/nucleus/train/52a2e248d75b.png', '/content/nucleus/train/e201f565a7d8.png', '/content/nucleus/train/ea362f1a9844.png', '/content/nucleus/train/625c65b50aa1.png', '/content/nucleus/train/3f6e72d6647d.png', '/content/nucleus/train/8917c2f4445e.png', '/content/nucleus/train/aca02da8ef58.png', '/content/nucleus/train/6a119b8773c6.png', '/content/nucleus/train/c362cb822d6b.png', '/content/nucleus/train/29efe1120825.png', '/content/nucleus/train/f0111570ede9.png', '/content/nucleus/train/a0ee7192f838.png', '/content/nucleus/train/db5ad777646f.png', '/content/nucleus/train/d132b291f6cc.png', '/content/nucleus/train/7c118cb496f7.png', '/content/nucleus/train/4d52c84bfe79.png', '/content/nucleus/train/2f1b9aea78d7.png', '/content/nucleus/train/0728b8f39241.png', '/content/nucleus/train/b8759ed1bf33.png', '/content/nucleus/train/3f14453053d4.png', '/content/nucleus/train/5b8e5ee1ec61.png', '/content/nucleus/train/34bd8ce0c802.png', '/content/nucleus/train/5c84424f601c.png', '/content/nucleus/train/c019b279bed8.png', '/content/nucleus/train/2d8810967b36.png', '/content/nucleus/train/b66e76eb1f3f.png', '/content/nucleus/train/91c06d4f10df.png', '/content/nucleus/train/7f21996da2e6.png', '/content/nucleus/train/8f6d3deadc55.png', '/content/nucleus/train/40db2225676e.png', '/content/nucleus/train/541ab846bcb0.png', '/content/nucleus/train/ec1d0a62b17c.png', '/content/nucleus/train/26d58ec4353a.png', '/content/nucleus/train/cfe901b30e8d.png', '/content/nucleus/train/98fd9ed43654.png', '/content/nucleus/train/309be9da24d7.png', '/content/nucleus/train/875775b0a33f.png', '/content/nucleus/train/5507c81bdcb6.png', '/content/nucleus/train/07e9ba109e34.png', '/content/nucleus/train/c4dc7ddff8ec.png', '/content/nucleus/train/8a754409504b.png', '/content/nucleus/train/76ad9ac01e2d.png', '/content/nucleus/train/60a7ba541038.png', '/content/nucleus/train/bfb878cd992e.png', '/content/nucleus/train/a162768bcf04.png', '/content/nucleus/train/c9c3465d8941.png', '/content/nucleus/train/87e2b185e074.png', '/content/nucleus/train/1242e4ec6ef3.png', '/content/nucleus/train/6064a286cbf3.png', '/content/nucleus/train/4e99b18bf20f.png', '/content/nucleus/train/dc18ef9b49f5.png', '/content/nucleus/train/ae3baa051773.png', '/content/nucleus/train/d914af4080bb.png', '/content/nucleus/train/182c3da676bd.png', '/content/nucleus/train/44752904b4d5.png', '/content/nucleus/train/9b6b19ec0736.png', '/content/nucleus/train/e767fd549540.png', '/content/nucleus/train/74a506f1d7e8.png', '/content/nucleus/train/8b6d3ad0fb2d.png', '/content/nucleus/train/0cfdeeb0dded.png', '/content/nucleus/train/ae1509f591ce.png', '/content/nucleus/train/e52789a0a1f5.png', '/content/nucleus/train/b0a5b4340364.png', '/content/nucleus/train/ce5d0de993bd.png', '/content/nucleus/train/f1fafe9e540f.png', '/content/nucleus/train/1bf60e3be6ce.png', '/content/nucleus/train/0f7d009bc5d3.png', '/content/nucleus/train/6244275a0951.png', '/content/nucleus/train/b1cc1e8aeecd.png', '/content/nucleus/train/042c17cd9143.png', '/content/nucleus/train/d0747a9ed004.png', '/content/nucleus/train/11c136be56b7.png', '/content/nucleus/train/559904fcd4a2.png', '/content/nucleus/train/856cbd30d034.png', '/content/nucleus/train/efec0322798a.png', '/content/nucleus/train/35fc12883459.png', '/content/nucleus/train/f00798e9b1eb.png', '/content/nucleus/train/e29015d36459.png', '/content/nucleus/train/c7cb35a80237.png', '/content/nucleus/train/adfd16bee70c.png', '/content/nucleus/train/418853314d5b.png', '/content/nucleus/train/b5afaf901478.png', '/content/nucleus/train/d7f8c3d595e9.png', '/content/nucleus/train/ac877991fa24.png', '/content/nucleus/train/3e0a07a7dcfc.png', '/content/nucleus/train/f843561f9e18.png', '/content/nucleus/train/3ac59a41a300.png', '/content/nucleus/train/286415b46ebb.png', '/content/nucleus/train/a7b1db2a42fc.png', '/content/nucleus/train/eb9c10862d4e.png', '/content/nucleus/train/25fc36476862.png', '/content/nucleus/train/563435d64260.png', '/content/nucleus/train/e5937076f423.png', '/content/nucleus/train/242de8187041.png', '/content/nucleus/train/6d9c64988769.png', '/content/nucleus/train/a97d5689d4c2.png', '/content/nucleus/train/52ea449bc02d.png', '/content/nucleus/train/db5260527117.png', '/content/nucleus/train/e1140f76536a.png', '/content/nucleus/train/78440cb4b47d.png', '/content/nucleus/train/0eb1d03df587.png', '/content/nucleus/train/4c98ec6b42aa.png', '/content/nucleus/train/5a05cc33a43d.png', '/content/nucleus/train/e8ae919aa92e.png', '/content/nucleus/train/393c8540c6fa.png', '/content/nucleus/train/b867d9f2d373.png', '/content/nucleus/train/a85fbc42127a.png', '/content/nucleus/train/4551bb9de3fa.png', '/content/nucleus/train/411a7b067dcc.png', '/content/nucleus/train/d21676dcf3a2.png', '/content/nucleus/train/cc8526acd4fe.png', '/content/nucleus/train/15aeb12e7a83.png', '/content/nucleus/train/a1aab9d6b6b2.png', '/content/nucleus/train/a87eed6346d5.png', '/content/nucleus/train/bebd2d51a0d0.png', '/content/nucleus/train/1ea4e44e5497.png', '/content/nucleus/train/af47d104aa7e.png', '/content/nucleus/train/aa2e2c09a57b.png', '/content/nucleus/train/d1db733a1edd.png', '/content/nucleus/train/5a880b2b403e.png', '/content/nucleus/train/d14e4fe1fef1.png', '/content/nucleus/train/704f269a8415.png', '/content/nucleus/train/b81db12284ff.png', '/content/nucleus/train/7ab1bc1c47f1.png', '/content/nucleus/train/1d2396667910.png', '/content/nucleus/train/68780361eded.png', '/content/nucleus/train/1d9cf05975eb.png', '/content/nucleus/train/ca5df17f6717.png', '/content/nucleus/train/c1a8710f13a5.png', '/content/nucleus/train/20dc08f66f3f.png', '/content/nucleus/train/930699898b1c.png', '/content/nucleus/train/cc40345857dd.png', '/content/nucleus/train/7d59ab1d21a2.png', '/content/nucleus/train/25fd50629a5c.png', '/content/nucleus/train/757253a07cd3.png', '/content/nucleus/train/4cef27c8f779.png', '/content/nucleus/train/3bcc8ba1dc17.png', '/content/nucleus/train/f17f964687b3.png', '/content/nucleus/train/903d94c69354.png', '/content/nucleus/train/172334437c88.png', '/content/nucleus/train/5e9130834984.png', '/content/nucleus/train/44c353126f35.png', '/content/nucleus/train/82a96cda2a44.png', '/content/nucleus/train/4ec5008ab318.png']\n"
          ]
        }
      ]
    },
    {
      "cell_type": "code",
      "source": [
        "# Load dataset\n",
        "'''\n",
        "dataset = nucleus.NucleusDataset_SD() # call the CellDataset class from the cell.py package\n",
        "\n",
        "dataset.load_nucleus(DATASET_DIR, subset=\"test\")\n",
        "'''\n",
        "\n",
        "# Must call before using the dataset\n",
        "dataset.prepare() # prepares the dataset built-in function\n",
        "\n",
        "print(\"Image Count: {}\".format(len(dataset.image_ids)))\n",
        "print(\"Class Count: {}\".format(dataset.num_classes))\n",
        "for i, info in enumerate(dataset.class_info):\n",
        "  print(\"{:3}. {:50}\".format(i, info['name']))"
      ],
      "metadata": {
        "colab": {
          "base_uri": "https://localhost:8080/"
        },
        "id": "2UbS_vhrivYC",
        "outputId": "dba9408d-7ec3-4153-e243-8f54827a8d53"
      },
      "execution_count": 58,
      "outputs": [
        {
          "output_type": "stream",
          "name": "stdout",
          "text": [
            "Image Count: 0\n",
            "Class Count: 2\n",
            "  0. BG                                                \n",
            "  1. nucleus                                           \n"
          ]
        }
      ]
    },
    {
      "cell_type": "markdown",
      "source": [
        "## Display samples"
      ],
      "metadata": {
        "id": "460VzQMuIi_b"
      }
    },
    {
      "cell_type": "code",
      "source": [
        "image_ids = np.random.choice(dataset.image_ids, 10)\n",
        "print(image_ids)"
      ],
      "metadata": {
        "colab": {
          "base_uri": "https://localhost:8080/"
        },
        "id": "olwy08Q5IlME",
        "outputId": "29625937-e796-48cc-fc60-55591452f8e3"
      },
      "execution_count": 27,
      "outputs": [
        {
          "output_type": "stream",
          "name": "stdout",
          "text": [
            "[10 10  2  4 23 17  7  7 11 11]\n"
          ]
        }
      ]
    },
    {
      "cell_type": "code",
      "source": [
        "for image_id in image_ids:\n",
        "    image = dataset.load_image(image_id)\n",
        "    mask, class_ids = dataset.load_mask(image_id)\n",
        "    #print(mask,mask.shape, class_ids)\n",
        "    visualize.display_top_masks(image, mask, class_ids, dataset.class_names, limit=1)"
      ],
      "metadata": {
        "colab": {
          "base_uri": "https://localhost:8080/",
          "height": 408
        },
        "id": "al1gf1tNvlwz",
        "outputId": "0046a6b3-99fa-4ed6-baff-881d24fd721b"
      },
      "execution_count": 25,
      "outputs": [
        {
          "output_type": "error",
          "ename": "FileNotFoundError",
          "evalue": "No such file: '/content/nucleus/stage1_train/0c2550a23b8a0f29a7575de8c61690d3c31bc897dd5ba66caec201d201a278c2/images/0c2550a23b8a0f29a7575de8c61690d3c31bc897dd5ba66caec201d201a278c2.png'",
          "traceback": [
            "\u001b[0;31m---------------------------------------------------------------------------\u001b[0m",
            "\u001b[0;31mFileNotFoundError\u001b[0m                         Traceback (most recent call last)",
            "\u001b[0;32m<ipython-input-25-261ad4f85091>\u001b[0m in \u001b[0;36m<cell line: 0>\u001b[0;34m()\u001b[0m\n\u001b[1;32m      1\u001b[0m \u001b[0;32mfor\u001b[0m \u001b[0mimage_id\u001b[0m \u001b[0;32min\u001b[0m \u001b[0mimage_ids\u001b[0m\u001b[0;34m:\u001b[0m\u001b[0;34m\u001b[0m\u001b[0;34m\u001b[0m\u001b[0m\n\u001b[0;32m----> 2\u001b[0;31m     \u001b[0mimage\u001b[0m \u001b[0;34m=\u001b[0m \u001b[0mdataset\u001b[0m\u001b[0;34m.\u001b[0m\u001b[0mload_image\u001b[0m\u001b[0;34m(\u001b[0m\u001b[0mimage_id\u001b[0m\u001b[0;34m)\u001b[0m\u001b[0;34m\u001b[0m\u001b[0;34m\u001b[0m\u001b[0m\n\u001b[0m\u001b[1;32m      3\u001b[0m     \u001b[0mmask\u001b[0m\u001b[0;34m,\u001b[0m \u001b[0mclass_ids\u001b[0m \u001b[0;34m=\u001b[0m \u001b[0mdataset\u001b[0m\u001b[0;34m.\u001b[0m\u001b[0mload_mask\u001b[0m\u001b[0;34m(\u001b[0m\u001b[0mimage_id\u001b[0m\u001b[0;34m)\u001b[0m\u001b[0;34m\u001b[0m\u001b[0;34m\u001b[0m\u001b[0m\n\u001b[1;32m      4\u001b[0m     \u001b[0;31m#print(mask,mask.shape, class_ids)\u001b[0m\u001b[0;34m\u001b[0m\u001b[0;34m\u001b[0m\u001b[0m\n\u001b[1;32m      5\u001b[0m     \u001b[0mvisualize\u001b[0m\u001b[0;34m.\u001b[0m\u001b[0mdisplay_top_masks\u001b[0m\u001b[0;34m(\u001b[0m\u001b[0mimage\u001b[0m\u001b[0;34m,\u001b[0m \u001b[0mmask\u001b[0m\u001b[0;34m,\u001b[0m \u001b[0mclass_ids\u001b[0m\u001b[0;34m,\u001b[0m \u001b[0mdataset\u001b[0m\u001b[0;34m.\u001b[0m\u001b[0mclass_names\u001b[0m\u001b[0;34m,\u001b[0m \u001b[0mlimit\u001b[0m\u001b[0;34m=\u001b[0m\u001b[0;36m1\u001b[0m\u001b[0;34m)\u001b[0m\u001b[0;34m\u001b[0m\u001b[0;34m\u001b[0m\u001b[0m\n",
            "\u001b[0;32m/content/mrcnn/utils.py\u001b[0m in \u001b[0;36mload_image\u001b[0;34m(self, image_id)\u001b[0m\n\u001b[1;32m    357\u001b[0m         \"\"\"\n\u001b[1;32m    358\u001b[0m         \u001b[0;31m# Load image\u001b[0m\u001b[0;34m\u001b[0m\u001b[0;34m\u001b[0m\u001b[0m\n\u001b[0;32m--> 359\u001b[0;31m         \u001b[0mimage\u001b[0m \u001b[0;34m=\u001b[0m \u001b[0mskimage\u001b[0m\u001b[0;34m.\u001b[0m\u001b[0mio\u001b[0m\u001b[0;34m.\u001b[0m\u001b[0mimread\u001b[0m\u001b[0;34m(\u001b[0m\u001b[0mself\u001b[0m\u001b[0;34m.\u001b[0m\u001b[0mimage_info\u001b[0m\u001b[0;34m[\u001b[0m\u001b[0mimage_id\u001b[0m\u001b[0;34m]\u001b[0m\u001b[0;34m[\u001b[0m\u001b[0;34m'path'\u001b[0m\u001b[0;34m]\u001b[0m\u001b[0;34m)\u001b[0m\u001b[0;34m\u001b[0m\u001b[0;34m\u001b[0m\u001b[0m\n\u001b[0m\u001b[1;32m    360\u001b[0m         \u001b[0;31m# If grayscale. Convert to RGB for consistency.\u001b[0m\u001b[0;34m\u001b[0m\u001b[0;34m\u001b[0m\u001b[0m\n\u001b[1;32m    361\u001b[0m         \u001b[0;32mif\u001b[0m \u001b[0mimage\u001b[0m\u001b[0;34m.\u001b[0m\u001b[0mndim\u001b[0m \u001b[0;34m!=\u001b[0m \u001b[0;36m3\u001b[0m\u001b[0;34m:\u001b[0m\u001b[0;34m\u001b[0m\u001b[0;34m\u001b[0m\u001b[0m\n",
            "\u001b[0;32m/usr/local/lib/python3.11/dist-packages/skimage/_shared/utils.py\u001b[0m in \u001b[0;36mfixed_func\u001b[0;34m(*args, **kwargs)\u001b[0m\n\u001b[1;32m    326\u001b[0m                     \u001b[0mkwargs\u001b[0m\u001b[0;34m[\u001b[0m\u001b[0mself\u001b[0m\u001b[0;34m.\u001b[0m\u001b[0mnew_name\u001b[0m\u001b[0;34m]\u001b[0m \u001b[0;34m=\u001b[0m \u001b[0mdeprecated_value\u001b[0m\u001b[0;34m\u001b[0m\u001b[0;34m\u001b[0m\u001b[0m\n\u001b[1;32m    327\u001b[0m \u001b[0;34m\u001b[0m\u001b[0m\n\u001b[0;32m--> 328\u001b[0;31m             \u001b[0;32mreturn\u001b[0m \u001b[0mfunc\u001b[0m\u001b[0;34m(\u001b[0m\u001b[0;34m*\u001b[0m\u001b[0margs\u001b[0m\u001b[0;34m,\u001b[0m \u001b[0;34m**\u001b[0m\u001b[0mkwargs\u001b[0m\u001b[0;34m)\u001b[0m\u001b[0;34m\u001b[0m\u001b[0;34m\u001b[0m\u001b[0m\n\u001b[0m\u001b[1;32m    329\u001b[0m \u001b[0;34m\u001b[0m\u001b[0m\n\u001b[1;32m    330\u001b[0m         \u001b[0;32mif\u001b[0m \u001b[0mself\u001b[0m\u001b[0;34m.\u001b[0m\u001b[0mmodify_docstring\u001b[0m \u001b[0;32mand\u001b[0m \u001b[0mfunc\u001b[0m\u001b[0;34m.\u001b[0m\u001b[0m__doc__\u001b[0m \u001b[0;32mis\u001b[0m \u001b[0;32mnot\u001b[0m \u001b[0;32mNone\u001b[0m\u001b[0;34m:\u001b[0m\u001b[0;34m\u001b[0m\u001b[0;34m\u001b[0m\u001b[0m\n",
            "\u001b[0;32m/usr/local/lib/python3.11/dist-packages/skimage/io/_io.py\u001b[0m in \u001b[0;36mimread\u001b[0;34m(fname, as_gray, plugin, **plugin_args)\u001b[0m\n\u001b[1;32m     80\u001b[0m \u001b[0;34m\u001b[0m\u001b[0m\n\u001b[1;32m     81\u001b[0m     \u001b[0;32mwith\u001b[0m \u001b[0mfile_or_url_context\u001b[0m\u001b[0;34m(\u001b[0m\u001b[0mfname\u001b[0m\u001b[0;34m)\u001b[0m \u001b[0;32mas\u001b[0m \u001b[0mfname\u001b[0m\u001b[0;34m,\u001b[0m \u001b[0m_hide_plugin_deprecation_warnings\u001b[0m\u001b[0;34m(\u001b[0m\u001b[0;34m)\u001b[0m\u001b[0;34m:\u001b[0m\u001b[0;34m\u001b[0m\u001b[0;34m\u001b[0m\u001b[0m\n\u001b[0;32m---> 82\u001b[0;31m         \u001b[0mimg\u001b[0m \u001b[0;34m=\u001b[0m \u001b[0mcall_plugin\u001b[0m\u001b[0;34m(\u001b[0m\u001b[0;34m'imread'\u001b[0m\u001b[0;34m,\u001b[0m \u001b[0mfname\u001b[0m\u001b[0;34m,\u001b[0m \u001b[0mplugin\u001b[0m\u001b[0;34m=\u001b[0m\u001b[0mplugin\u001b[0m\u001b[0;34m,\u001b[0m \u001b[0;34m**\u001b[0m\u001b[0mplugin_args\u001b[0m\u001b[0;34m)\u001b[0m\u001b[0;34m\u001b[0m\u001b[0;34m\u001b[0m\u001b[0m\n\u001b[0m\u001b[1;32m     83\u001b[0m \u001b[0;34m\u001b[0m\u001b[0m\n\u001b[1;32m     84\u001b[0m     \u001b[0;32mif\u001b[0m \u001b[0;32mnot\u001b[0m \u001b[0mhasattr\u001b[0m\u001b[0;34m(\u001b[0m\u001b[0mimg\u001b[0m\u001b[0;34m,\u001b[0m \u001b[0;34m'ndim'\u001b[0m\u001b[0;34m)\u001b[0m\u001b[0;34m:\u001b[0m\u001b[0;34m\u001b[0m\u001b[0;34m\u001b[0m\u001b[0m\n",
            "\u001b[0;32m/usr/local/lib/python3.11/dist-packages/skimage/_shared/utils.py\u001b[0m in \u001b[0;36mwrapped\u001b[0;34m(*args, **kwargs)\u001b[0m\n\u001b[1;32m    536\u001b[0m             \u001b[0mstacklevel\u001b[0m \u001b[0;34m=\u001b[0m \u001b[0;36m1\u001b[0m \u001b[0;34m+\u001b[0m \u001b[0mself\u001b[0m\u001b[0;34m.\u001b[0m\u001b[0mget_stack_length\u001b[0m\u001b[0;34m(\u001b[0m\u001b[0mfunc\u001b[0m\u001b[0;34m)\u001b[0m \u001b[0;34m-\u001b[0m \u001b[0mstack_rank\u001b[0m\u001b[0;34m\u001b[0m\u001b[0;34m\u001b[0m\u001b[0m\n\u001b[1;32m    537\u001b[0m             \u001b[0mwarnings\u001b[0m\u001b[0;34m.\u001b[0m\u001b[0mwarn\u001b[0m\u001b[0;34m(\u001b[0m\u001b[0mmessage\u001b[0m\u001b[0;34m,\u001b[0m \u001b[0mcategory\u001b[0m\u001b[0;34m=\u001b[0m\u001b[0mFutureWarning\u001b[0m\u001b[0;34m,\u001b[0m \u001b[0mstacklevel\u001b[0m\u001b[0;34m=\u001b[0m\u001b[0mstacklevel\u001b[0m\u001b[0;34m)\u001b[0m\u001b[0;34m\u001b[0m\u001b[0;34m\u001b[0m\u001b[0m\n\u001b[0;32m--> 538\u001b[0;31m             \u001b[0;32mreturn\u001b[0m \u001b[0mfunc\u001b[0m\u001b[0;34m(\u001b[0m\u001b[0;34m*\u001b[0m\u001b[0margs\u001b[0m\u001b[0;34m,\u001b[0m \u001b[0;34m**\u001b[0m\u001b[0mkwargs\u001b[0m\u001b[0;34m)\u001b[0m\u001b[0;34m\u001b[0m\u001b[0;34m\u001b[0m\u001b[0m\n\u001b[0m\u001b[1;32m    539\u001b[0m \u001b[0;34m\u001b[0m\u001b[0m\n\u001b[1;32m    540\u001b[0m         \u001b[0;31m# modify docstring to display deprecation warning\u001b[0m\u001b[0;34m\u001b[0m\u001b[0;34m\u001b[0m\u001b[0m\n",
            "\u001b[0;32m/usr/local/lib/python3.11/dist-packages/skimage/io/manage_plugins.py\u001b[0m in \u001b[0;36mcall_plugin\u001b[0;34m(kind, *args, **kwargs)\u001b[0m\n\u001b[1;32m    252\u001b[0m             \u001b[0;32mraise\u001b[0m \u001b[0mRuntimeError\u001b[0m\u001b[0;34m(\u001b[0m\u001b[0;34mf'Could not find the plugin \"{plugin}\" for {kind}.'\u001b[0m\u001b[0;34m)\u001b[0m\u001b[0;34m\u001b[0m\u001b[0;34m\u001b[0m\u001b[0m\n\u001b[1;32m    253\u001b[0m \u001b[0;34m\u001b[0m\u001b[0m\n\u001b[0;32m--> 254\u001b[0;31m     \u001b[0;32mreturn\u001b[0m \u001b[0mfunc\u001b[0m\u001b[0;34m(\u001b[0m\u001b[0;34m*\u001b[0m\u001b[0margs\u001b[0m\u001b[0;34m,\u001b[0m \u001b[0;34m**\u001b[0m\u001b[0mkwargs\u001b[0m\u001b[0;34m)\u001b[0m\u001b[0;34m\u001b[0m\u001b[0;34m\u001b[0m\u001b[0m\n\u001b[0m\u001b[1;32m    255\u001b[0m \u001b[0;34m\u001b[0m\u001b[0m\n\u001b[1;32m    256\u001b[0m \u001b[0;34m\u001b[0m\u001b[0m\n",
            "\u001b[0;32m/usr/local/lib/python3.11/dist-packages/skimage/io/_plugins/imageio_plugin.py\u001b[0m in \u001b[0;36mimread\u001b[0;34m(*args, **kwargs)\u001b[0m\n\u001b[1;32m      9\u001b[0m \u001b[0;34m@\u001b[0m\u001b[0mwraps\u001b[0m\u001b[0;34m(\u001b[0m\u001b[0mimageio_imread\u001b[0m\u001b[0;34m)\u001b[0m\u001b[0;34m\u001b[0m\u001b[0;34m\u001b[0m\u001b[0m\n\u001b[1;32m     10\u001b[0m \u001b[0;32mdef\u001b[0m \u001b[0mimread\u001b[0m\u001b[0;34m(\u001b[0m\u001b[0;34m*\u001b[0m\u001b[0margs\u001b[0m\u001b[0;34m,\u001b[0m \u001b[0;34m**\u001b[0m\u001b[0mkwargs\u001b[0m\u001b[0;34m)\u001b[0m\u001b[0;34m:\u001b[0m\u001b[0;34m\u001b[0m\u001b[0;34m\u001b[0m\u001b[0m\n\u001b[0;32m---> 11\u001b[0;31m     \u001b[0mout\u001b[0m \u001b[0;34m=\u001b[0m \u001b[0mnp\u001b[0m\u001b[0;34m.\u001b[0m\u001b[0masarray\u001b[0m\u001b[0;34m(\u001b[0m\u001b[0mimageio_imread\u001b[0m\u001b[0;34m(\u001b[0m\u001b[0;34m*\u001b[0m\u001b[0margs\u001b[0m\u001b[0;34m,\u001b[0m \u001b[0;34m**\u001b[0m\u001b[0mkwargs\u001b[0m\u001b[0;34m)\u001b[0m\u001b[0;34m)\u001b[0m\u001b[0;34m\u001b[0m\u001b[0;34m\u001b[0m\u001b[0m\n\u001b[0m\u001b[1;32m     12\u001b[0m     \u001b[0;32mif\u001b[0m \u001b[0;32mnot\u001b[0m \u001b[0mout\u001b[0m\u001b[0;34m.\u001b[0m\u001b[0mflags\u001b[0m\u001b[0;34m[\u001b[0m\u001b[0;34m'WRITEABLE'\u001b[0m\u001b[0;34m]\u001b[0m\u001b[0;34m:\u001b[0m\u001b[0;34m\u001b[0m\u001b[0;34m\u001b[0m\u001b[0m\n\u001b[1;32m     13\u001b[0m         \u001b[0mout\u001b[0m \u001b[0;34m=\u001b[0m \u001b[0mout\u001b[0m\u001b[0;34m.\u001b[0m\u001b[0mcopy\u001b[0m\u001b[0;34m(\u001b[0m\u001b[0;34m)\u001b[0m\u001b[0;34m\u001b[0m\u001b[0;34m\u001b[0m\u001b[0m\n",
            "\u001b[0;32m/usr/local/lib/python3.11/dist-packages/imageio/v3.py\u001b[0m in \u001b[0;36mimread\u001b[0;34m(uri, index, plugin, extension, format_hint, **kwargs)\u001b[0m\n\u001b[1;32m     51\u001b[0m         \u001b[0mcall_kwargs\u001b[0m\u001b[0;34m[\u001b[0m\u001b[0;34m\"index\"\u001b[0m\u001b[0;34m]\u001b[0m \u001b[0;34m=\u001b[0m \u001b[0mindex\u001b[0m\u001b[0;34m\u001b[0m\u001b[0;34m\u001b[0m\u001b[0m\n\u001b[1;32m     52\u001b[0m \u001b[0;34m\u001b[0m\u001b[0m\n\u001b[0;32m---> 53\u001b[0;31m     \u001b[0;32mwith\u001b[0m \u001b[0mimopen\u001b[0m\u001b[0;34m(\u001b[0m\u001b[0muri\u001b[0m\u001b[0;34m,\u001b[0m \u001b[0;34m\"r\"\u001b[0m\u001b[0;34m,\u001b[0m \u001b[0;34m**\u001b[0m\u001b[0mplugin_kwargs\u001b[0m\u001b[0;34m)\u001b[0m \u001b[0;32mas\u001b[0m \u001b[0mimg_file\u001b[0m\u001b[0;34m:\u001b[0m\u001b[0;34m\u001b[0m\u001b[0;34m\u001b[0m\u001b[0m\n\u001b[0m\u001b[1;32m     54\u001b[0m         \u001b[0;32mreturn\u001b[0m \u001b[0mnp\u001b[0m\u001b[0;34m.\u001b[0m\u001b[0masarray\u001b[0m\u001b[0;34m(\u001b[0m\u001b[0mimg_file\u001b[0m\u001b[0;34m.\u001b[0m\u001b[0mread\u001b[0m\u001b[0;34m(\u001b[0m\u001b[0;34m**\u001b[0m\u001b[0mcall_kwargs\u001b[0m\u001b[0;34m)\u001b[0m\u001b[0;34m)\u001b[0m\u001b[0;34m\u001b[0m\u001b[0;34m\u001b[0m\u001b[0m\n\u001b[1;32m     55\u001b[0m \u001b[0;34m\u001b[0m\u001b[0m\n",
            "\u001b[0;32m/usr/local/lib/python3.11/dist-packages/imageio/core/imopen.py\u001b[0m in \u001b[0;36mimopen\u001b[0;34m(uri, io_mode, plugin, extension, format_hint, legacy_mode, **kwargs)\u001b[0m\n\u001b[1;32m    111\u001b[0m         \u001b[0mrequest\u001b[0m\u001b[0;34m.\u001b[0m\u001b[0mformat_hint\u001b[0m \u001b[0;34m=\u001b[0m \u001b[0mformat_hint\u001b[0m\u001b[0;34m\u001b[0m\u001b[0;34m\u001b[0m\u001b[0m\n\u001b[1;32m    112\u001b[0m     \u001b[0;32melse\u001b[0m\u001b[0;34m:\u001b[0m\u001b[0;34m\u001b[0m\u001b[0;34m\u001b[0m\u001b[0m\n\u001b[0;32m--> 113\u001b[0;31m         \u001b[0mrequest\u001b[0m \u001b[0;34m=\u001b[0m \u001b[0mRequest\u001b[0m\u001b[0;34m(\u001b[0m\u001b[0muri\u001b[0m\u001b[0;34m,\u001b[0m \u001b[0mio_mode\u001b[0m\u001b[0;34m,\u001b[0m \u001b[0mformat_hint\u001b[0m\u001b[0;34m=\u001b[0m\u001b[0mformat_hint\u001b[0m\u001b[0;34m,\u001b[0m \u001b[0mextension\u001b[0m\u001b[0;34m=\u001b[0m\u001b[0mextension\u001b[0m\u001b[0;34m)\u001b[0m\u001b[0;34m\u001b[0m\u001b[0;34m\u001b[0m\u001b[0m\n\u001b[0m\u001b[1;32m    114\u001b[0m \u001b[0;34m\u001b[0m\u001b[0m\n\u001b[1;32m    115\u001b[0m     \u001b[0msource\u001b[0m \u001b[0;34m=\u001b[0m \u001b[0;34m\"<bytes>\"\u001b[0m \u001b[0;32mif\u001b[0m \u001b[0misinstance\u001b[0m\u001b[0;34m(\u001b[0m\u001b[0muri\u001b[0m\u001b[0;34m,\u001b[0m \u001b[0mbytes\u001b[0m\u001b[0;34m)\u001b[0m \u001b[0;32melse\u001b[0m \u001b[0muri\u001b[0m\u001b[0;34m\u001b[0m\u001b[0;34m\u001b[0m\u001b[0m\n",
            "\u001b[0;32m/usr/local/lib/python3.11/dist-packages/imageio/core/request.py\u001b[0m in \u001b[0;36m__init__\u001b[0;34m(self, uri, mode, extension, format_hint, **kwargs)\u001b[0m\n\u001b[1;32m    247\u001b[0m \u001b[0;34m\u001b[0m\u001b[0m\n\u001b[1;32m    248\u001b[0m         \u001b[0;31m# Parse what was given\u001b[0m\u001b[0;34m\u001b[0m\u001b[0;34m\u001b[0m\u001b[0m\n\u001b[0;32m--> 249\u001b[0;31m         \u001b[0mself\u001b[0m\u001b[0;34m.\u001b[0m\u001b[0m_parse_uri\u001b[0m\u001b[0;34m(\u001b[0m\u001b[0muri\u001b[0m\u001b[0;34m)\u001b[0m\u001b[0;34m\u001b[0m\u001b[0;34m\u001b[0m\u001b[0m\n\u001b[0m\u001b[1;32m    250\u001b[0m \u001b[0;34m\u001b[0m\u001b[0m\n\u001b[1;32m    251\u001b[0m         \u001b[0;31m# Set extension\u001b[0m\u001b[0;34m\u001b[0m\u001b[0;34m\u001b[0m\u001b[0m\n",
            "\u001b[0;32m/usr/local/lib/python3.11/dist-packages/imageio/core/request.py\u001b[0m in \u001b[0;36m_parse_uri\u001b[0;34m(self, uri)\u001b[0m\n\u001b[1;32m    407\u001b[0m                 \u001b[0;31m# Reading: check that the file exists (but is allowed a dir)\u001b[0m\u001b[0;34m\u001b[0m\u001b[0;34m\u001b[0m\u001b[0m\n\u001b[1;32m    408\u001b[0m                 \u001b[0;32mif\u001b[0m \u001b[0;32mnot\u001b[0m \u001b[0mos\u001b[0m\u001b[0;34m.\u001b[0m\u001b[0mpath\u001b[0m\u001b[0;34m.\u001b[0m\u001b[0mexists\u001b[0m\u001b[0;34m(\u001b[0m\u001b[0mfn\u001b[0m\u001b[0;34m)\u001b[0m\u001b[0;34m:\u001b[0m\u001b[0;34m\u001b[0m\u001b[0;34m\u001b[0m\u001b[0m\n\u001b[0;32m--> 409\u001b[0;31m                     \u001b[0;32mraise\u001b[0m \u001b[0mFileNotFoundError\u001b[0m\u001b[0;34m(\u001b[0m\u001b[0;34m\"No such file: '%s'\"\u001b[0m \u001b[0;34m%\u001b[0m \u001b[0mfn\u001b[0m\u001b[0;34m)\u001b[0m\u001b[0;34m\u001b[0m\u001b[0;34m\u001b[0m\u001b[0m\n\u001b[0m\u001b[1;32m    410\u001b[0m             \u001b[0;32melse\u001b[0m\u001b[0;34m:\u001b[0m\u001b[0;34m\u001b[0m\u001b[0;34m\u001b[0m\u001b[0m\n\u001b[1;32m    411\u001b[0m                 \u001b[0;31m# Writing: check that the directory to write to does exist\u001b[0m\u001b[0;34m\u001b[0m\u001b[0;34m\u001b[0m\u001b[0m\n",
            "\u001b[0;31mFileNotFoundError\u001b[0m: No such file: '/content/nucleus/stage1_train/0c2550a23b8a0f29a7575de8c61690d3c31bc897dd5ba66caec201d201a278c2/images/0c2550a23b8a0f29a7575de8c61690d3c31bc897dd5ba66caec201d201a278c2.png'"
          ]
        }
      ]
    },
    {
      "cell_type": "code",
      "source": [
        "# overlaying the original image & mask together\n",
        "# Example of loading a specific image by its source ID\n",
        "source_id = \"053d61766edb\"\n",
        "\n",
        "# Map source ID to Dataset image_id\n",
        "# Notice the nucleus prefix: it's the name given to the dataset in NucleusDataset\n",
        "image_id = dataset.image_from_source_map[\"cell.{}\".format(source_id)]\n",
        "\n",
        "# Load and display\n",
        "image, image_meta, class_ids, bbox, mask = modellib.load_image_gt(\n",
        "        dataset, config, image_id, use_mini_mask=False)\n",
        "log(\"molded_image\", image)\n",
        "log(\"mask\", mask)\n",
        "visualize.display_instances(image, bbox, mask, class_ids, dataset.class_names,\n",
        "                            show_bbox=False)"
      ],
      "metadata": {
        "id": "JjPh5HUdwa-E"
      },
      "execution_count": null,
      "outputs": []
    },
    {
      "cell_type": "markdown",
      "source": [
        "# Model"
      ],
      "metadata": {
        "id": "PN1bBHdh62II"
      }
    },
    {
      "cell_type": "markdown",
      "source": [
        "## Initialization"
      ],
      "metadata": {
        "id": "0wqDuTq6MLxp"
      }
    },
    {
      "cell_type": "code",
      "source": [
        "# Data path\n",
        "TRAIN_PATH = '/content/cell/train/'\n",
        "TEST_PATH ='/content/cell/test'\n",
        "\n",
        "# Directory to save logs and trained model\n",
        "MODEL_DIR = os.path.join(ROOT_DIR, \"logs\")\n",
        "\n",
        "# Local path to trained weights file\n",
        "COCO_MODEL_PATH = os.path.join(ROOT_DIR, \"mask_rcnn_coco.h5\")\n",
        "\n",
        "# Download COCO trained weights from release if needed\n",
        "if not os.path.exists(COCO_MODEL_PATH):\n",
        "  utils.download_trained_weights(COCO_MODEL_PATH)"
      ],
      "metadata": {
        "id": "K3ImlDwv7V90"
      },
      "execution_count": null,
      "outputs": []
    },
    {
      "cell_type": "markdown",
      "source": [
        "## Dataset loader"
      ],
      "metadata": {
        "id": "HGJtj5h1MQT_"
      }
    },
    {
      "cell_type": "code",
      "source": [
        "import shutil"
      ],
      "metadata": {
        "id": "f2lfLfkZJSgp"
      },
      "execution_count": null,
      "outputs": []
    },
    {
      "cell_type": "code",
      "source": [
        "# Split train set to training and validation subset\n",
        "!mkdir cell/val_set/"
      ],
      "metadata": {
        "id": "ZLzCgZ7lHtbZ"
      },
      "execution_count": null,
      "outputs": []
    },
    {
      "cell_type": "code",
      "source": [
        "source_dir = 'cell/train'\n",
        "target_dir = 'cell/val_set'\n",
        "\n",
        "file_names = os.listdir(source_dir)[:25]\n",
        ""
      ],
      "metadata": {
        "id": "cbP0mKbhIBuh"
      },
      "execution_count": null,
      "outputs": []
    },
    {
      "cell_type": "code",
      "source": [
        "file_names"
      ],
      "metadata": {
        "id": "7xc_MSr0I2Xf"
      },
      "execution_count": null,
      "outputs": []
    },
    {
      "cell_type": "code",
      "source": [
        "for file_name in file_names:\n",
        "  shutil.move(os.path.join(source_dir, file_name), target_dir)"
      ],
      "metadata": {
        "id": "4D-Xu3MOJFI7"
      },
      "execution_count": null,
      "outputs": []
    },
    {
      "cell_type": "code",
      "source": [
        "# Training dataset\n",
        "dataset_train = cell.CellDataset()\n",
        "dataset_train.load_cell(DATASET_DIR, subset=\"train\")\n",
        "dataset_train.prepare()"
      ],
      "metadata": {
        "id": "p-QToCj690oY"
      },
      "execution_count": null,
      "outputs": []
    },
    {
      "cell_type": "code",
      "source": [
        "# Validation dataset\n",
        "dataset_val = cell.CellDataset()\n",
        "dataset_val.load_cell(DATASET_DIR, subset=\"val\")\n",
        "dataset_val.prepare()"
      ],
      "metadata": {
        "id": "dvAfg8XBTupi"
      },
      "execution_count": null,
      "outputs": []
    },
    {
      "cell_type": "markdown",
      "source": [
        "## Create Model"
      ],
      "metadata": {
        "id": "merKVFo4MjK6"
      }
    },
    {
      "cell_type": "code",
      "source": [
        "# Create Model\n",
        "model = modellib.MaskRCNN(mode=\"training\", config=config, model_dir=MODEL_DIR)"
      ],
      "metadata": {
        "id": "7e0VR2DpMfcP"
      },
      "execution_count": null,
      "outputs": []
    },
    {
      "cell_type": "code",
      "source": [
        "# Initialize coco weight\n",
        "init_with = \"coco\"\n",
        "\n",
        "model.load_weights(COCO_MODEL_PATH, by_name=True,\n",
        "                   exclude=[\"mrcnn_class_logits\", \"mrcnn_bbox_fc\",\n",
        "                            \"mrcnn_bbox\", \"mrcnn_mask\"])"
      ],
      "metadata": {
        "id": "la44yc7BMud_"
      },
      "execution_count": null,
      "outputs": []
    },
    {
      "cell_type": "markdown",
      "source": [
        "# Data Augmentation"
      ],
      "metadata": {
        "id": "ExKUpmWNOMc2"
      }
    },
    {
      "cell_type": "code",
      "source": [
        "'''\n",
        "augmentation = iaa.SomeOf((0,2), [\n",
        "        iaa.Fliplr(0.5),\n",
        "        iaa.Flipud(0.5),\n",
        "        iaa.OneOf([\n",
        "            iaa.Affine(rotate=90),\n",
        "            iaa.Affine(rotate=180),\n",
        "            iaa.Affine(rotate=270)\n",
        "        ]),\n",
        "        iaa.Multiply((0.8, 1.5)),\n",
        "        iaa.GaussianBlur(sigma=(0.0, 5.0))\n",
        "])\n",
        "'''"
      ],
      "metadata": {
        "id": "To-n8h8hOOaf"
      },
      "execution_count": null,
      "outputs": []
    },
    {
      "cell_type": "markdown",
      "source": [
        "# Training\n",
        "\n",
        "Train in two stages:\n",
        "\n",
        "1.  Only the heads. Here we're freezing all the backbone layers and training only the randomly initialized pretrained weights from MS COCO). To train only the head layers, pas `layers='heads'` to the `train()` function.\n",
        "\n",
        "2. Fine-tune all layers."
      ],
      "metadata": {
        "id": "MRJfUd6-NFz2"
      }
    },
    {
      "cell_type": "code",
      "source": [
        "# Train the head\n",
        "model.train(dataset_train, dataset_val, learning_rate=config.LEARNING_RATE,\n",
        "            epochs=1,\n",
        "            #augmentation=augmentation,\n",
        "            layers='heads')"
      ],
      "metadata": {
        "id": "Iq34fYKrNeFF"
      },
      "execution_count": null,
      "outputs": []
    },
    {
      "cell_type": "code",
      "source": [
        "# Fine tune all layers\n",
        "model.train(dataset_train, dataset_val, learning_rate=config.LEARNING_RATE / 10,\n",
        "            epochs=2,\n",
        "            #augmentation=augmentation,\n",
        "            layers='all')"
      ],
      "metadata": {
        "id": "UqogtJ0xNqKw"
      },
      "execution_count": null,
      "outputs": []
    },
    {
      "cell_type": "markdown",
      "source": [
        "# Inference"
      ],
      "metadata": {
        "id": "DPXeeJOrsNi6"
      }
    },
    {
      "cell_type": "code",
      "source": [
        "import glob\n",
        "import skimage\n",
        "import imageio"
      ],
      "metadata": {
        "id": "ibPZ3FoGv5Ek"
      },
      "execution_count": null,
      "outputs": []
    },
    {
      "cell_type": "code",
      "source": [
        "inference_config = cell.CellInferenceConfig()\n",
        "inference_config.display()"
      ],
      "metadata": {
        "id": "zTA66ka7sM9V"
      },
      "execution_count": null,
      "outputs": []
    },
    {
      "cell_type": "code",
      "source": [
        "# Recreate the model in inference mode\n",
        "model_infer = modellib.MaskRCNN(mode=\"inference\", config=inference_config,\n",
        "                                model_dir=MODEL_DIR)"
      ],
      "metadata": {
        "id": "6GN1AOzstDsp"
      },
      "execution_count": null,
      "outputs": []
    },
    {
      "cell_type": "code",
      "source": [
        "model_path = '/content/logs/cell20220103T2332/mask_rcnn_cell_0002.h5'"
      ],
      "metadata": {
        "id": "lCni1vksuGVT"
      },
      "execution_count": null,
      "outputs": []
    },
    {
      "cell_type": "code",
      "source": [
        "# Load trained weights\n",
        "model_infer.load_weights(model_path, by_name=True)"
      ],
      "metadata": {
        "id": "n4THIULntcAW"
      },
      "execution_count": null,
      "outputs": []
    },
    {
      "cell_type": "code",
      "source": [
        "train = pd.read_csv('/content/cell/train.csv')\n",
        "\n",
        "# Unique Image IDs\n",
        "id_unique = train['id'].unique()\n",
        "\n",
        "# Original Image File Path\n",
        "def get_file_path(image_id):\n",
        "    return f'/content/cell/train/{image_id}.png'\n",
        "\n",
        "train['file_path'] = train['id'].apply(get_file_path)\n",
        "\n",
        "# Unique Cell Names\n",
        "CELL_NAMES = np.sort(train['cell_type'].unique())\n",
        "print(f'CELL_NAMES: {CELL_NAMES}')"
      ],
      "metadata": {
        "id": "rbA2Zq6TxXVL"
      },
      "execution_count": null,
      "outputs": []
    },
    {
      "cell_type": "code",
      "source": [
        "for file_path in glob.glob('/content/cell/train/*.png')[:25]:\n",
        "    img = skimage.io.imread(file_path)\n",
        "    img = np.expand_dims(img, axis=2)\n",
        "    img = np.concatenate((img, img, img), axis=2)\n",
        "    results = model_infer.detect([img], verbose=1)\n",
        "    r = results[0]\n",
        "\n",
        "    # Image Id\n",
        "    image_id = file_path.split('/')[-1].split('.')[0]\n",
        "    print(f'image_id: {image_id}')\n",
        "\n",
        "    mask = cell.rle_decode(image_id, '/content/cell/train.csv' )\n",
        "    mask = np.sum(mask, axis=2)\n",
        "    plt.figure(figsize=(16,16))\n",
        "    plt.imshow(mask)\n",
        "    plt.show()\n",
        "\n",
        "    visualize.display_instances(\n",
        "        img,\n",
        "        r['rois'],\n",
        "        r['masks'],\n",
        "        r['class_ids'],\n",
        "        ['BG'] + CELL_NAMES.tolist(),\n",
        "        r['scores'],\n",
        "        figsize=(16,16)\n",
        "    )"
      ],
      "metadata": {
        "id": "_dRtl_o5uyrj"
      },
      "execution_count": null,
      "outputs": []
    },
    {
      "cell_type": "code",
      "source": [],
      "metadata": {
        "id": "tceTmJ8rxwUq"
      },
      "execution_count": null,
      "outputs": []
    }
  ]
}